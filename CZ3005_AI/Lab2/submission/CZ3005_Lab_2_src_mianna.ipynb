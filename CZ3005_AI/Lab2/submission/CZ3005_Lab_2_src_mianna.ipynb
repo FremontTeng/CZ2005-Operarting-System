{
  "nbformat": 4,
  "nbformat_minor": 0,
  "metadata": {
    "interpreter": {
      "hash": "615db1b1fa0842ca9ab0b732f5085a0ba37de50b5337fdfd6e648cc09d6392a8"
    },
    "kernelspec": {
      "display_name": "Python 3.8.10 64-bit",
      "name": "python3"
    },
    "language_info": {
      "codemirror_mode": {
        "name": "ipython",
        "version": 3
      },
      "file_extension": ".py",
      "mimetype": "text/x-python",
      "name": "python",
      "nbconvert_exporter": "python",
      "pygments_lexer": "ipython3",
      "version": "3.8.10"
    },
    "orig_nbformat": 4,
    "colab": {
      "name": "lab_2_mianna.ipynb",
      "provenance": [],
      "collapsed_sections": []
    },
    "accelerator": "GPU"
  },
  "cells": [
    {
      "cell_type": "markdown",
      "metadata": {
        "id": "QzGCiZD7wZCY"
      },
      "source": [
        "# Lab 2 Assigment"
      ]
    },
    {
      "cell_type": "markdown",
      "metadata": {
        "id": "K-F29LpCwZCb"
      },
      "source": [
        "Import relevant modules"
      ]
    },
    {
      "cell_type": "code",
      "metadata": {
        "id": "73-_W8IFwZCb"
      },
      "source": [
        "import torch\n",
        "import torch.nn as nn\n",
        "import torch.nn.functional as F\n",
        "from torch import optim\n",
        "from torch.utils.data import Dataset, DataLoader\n",
        "import scipy.io\n",
        "import numpy as np\n",
        "from sklearn.model_selection import train_test_split\n",
        "import os\n",
        "import time"
      ],
      "execution_count": null,
      "outputs": []
    },
    {
      "cell_type": "code",
      "metadata": {
        "id": "zALkfDnbkd-i"
      },
      "source": [
        "os.environ['CUDA_LAUNCH_BLOCKING'] = \"1\""
      ],
      "execution_count": null,
      "outputs": []
    },
    {
      "cell_type": "code",
      "metadata": {
        "colab": {
          "base_uri": "https://localhost:8080/"
        },
        "id": "GcdcQbdQLyVW",
        "outputId": "b3c513b6-2a73-4d68-da0d-5dae1c3010b8"
      },
      "source": [
        "from google.colab import drive\n",
        "drive.mount('/content/drive')"
      ],
      "execution_count": null,
      "outputs": [
        {
          "output_type": "stream",
          "name": "stdout",
          "text": [
            "Drive already mounted at /content/drive; to attempt to forcibly remount, call drive.mount(\"/content/drive\", force_remount=True).\n"
          ]
        }
      ]
    },
    {
      "cell_type": "code",
      "metadata": {
        "id": "QTWTBaXSLi2m"
      },
      "source": [
        "#Read dataset from path\n",
        "pathname = '/content/drive/MyDrive/CZ3005 Lab 2/OQC.mat'\n",
        "mat = scipy.io.loadmat(pathname)"
      ],
      "execution_count": null,
      "outputs": []
    },
    {
      "cell_type": "code",
      "metadata": {
        "colab": {
          "base_uri": "https://localhost:8080/"
        },
        "id": "8Gz8nuWkN8H9",
        "outputId": "0718f13c-ce89-4375-f986-ca61622699a0"
      },
      "source": [
        "#Print Data \n",
        "full_dataset = mat['data']\n",
        "full_dataset"
      ],
      "execution_count": null,
      "outputs": [
        {
          "output_type": "execute_result",
          "data": {
            "text/plain": [
              "array([[0.39052473, 0.14779758, 0.1563981 , ..., 0.07962529, 0.92246927,\n",
              "        2.        ],\n",
              "       [0.39052473, 0.14779758, 0.1563981 , ..., 0.05367681, 0.92148159,\n",
              "        2.        ],\n",
              "       [0.5084938 , 0.14779758, 0.1563981 , ..., 0.05611241, 0.9204939 ,\n",
              "        2.        ],\n",
              "       ...,\n",
              "       [0.54001505, 0.00982888, 0.77251185, ..., 0.05611241, 0.93135813,\n",
              "        0.        ],\n",
              "       [0.60664394, 0.00982888, 0.77251185, ..., 0.05658079, 0.93086416,\n",
              "        0.        ],\n",
              "       [0.7189506 , 0.00982888, 0.77251185, ..., 0.05658079, 0.93086416,\n",
              "        0.        ]])"
            ]
          },
          "metadata": {},
          "execution_count": 5
        }
      ]
    },
    {
      "cell_type": "code",
      "metadata": {
        "colab": {
          "base_uri": "https://localhost:8080/"
        },
        "id": "wZF5pa5aOO8F",
        "outputId": "d6a958bc-81e1-4212-8e13-f92b0d3e6396"
      },
      "source": [
        "print(\"Size of full dataset: \",len(full_dataset))"
      ],
      "execution_count": null,
      "outputs": [
        {
          "output_type": "stream",
          "name": "stdout",
          "text": [
            "Size of full dataset:  2952\n"
          ]
        }
      ]
    },
    {
      "cell_type": "code",
      "metadata": {
        "id": "GZL267mHPREs"
      },
      "source": [
        "x, y = full_dataset, range(len(full_dataset))"
      ],
      "execution_count": null,
      "outputs": []
    },
    {
      "cell_type": "code",
      "metadata": {
        "id": "sbG2s4e-MSAU"
      },
      "source": [
        "train, test =train_test_split(x,test_size=0.3)"
      ],
      "execution_count": null,
      "outputs": []
    },
    {
      "cell_type": "code",
      "metadata": {
        "id": "-Ms60CANYh0N"
      },
      "source": [
        "def splitXY(dataset):\n",
        "  a0 = 0 #Normal\n",
        "  a1 = 0 #Weaving\n",
        "  a2 = 0 #Short Forming\n",
        "\n",
        "  x = [] #The 48 parameters\n",
        "  y = [] #Represents the state of molding\n",
        "\n",
        "  for dataline in dataset:\n",
        "    i = len(dataline)-1\n",
        "    if (dataline[i]==0):\n",
        "      a0+=1\n",
        "    elif (dataline[i]==1):\n",
        "      a1+=1\n",
        "    elif (dataline[i]==2):\n",
        "      a2+=1\n",
        "    x.append(dataline[:-1])\n",
        "    y.append(dataline[i])\n",
        "  return x,y"
      ],
      "execution_count": null,
      "outputs": []
    },
    {
      "cell_type": "code",
      "metadata": {
        "id": "ADS5pnR4VPut"
      },
      "source": [
        "x_train, y_train = splitXY(train)\n",
        "x_test, y_test = splitXY(test)"
      ],
      "execution_count": null,
      "outputs": []
    },
    {
      "cell_type": "code",
      "metadata": {
        "id": "b3CHOVG-gpLl"
      },
      "source": [
        "x_train, y_train, x_test, y_test = map(torch.tensor, (x_train, y_train, x_test, y_test))"
      ],
      "execution_count": null,
      "outputs": []
    },
    {
      "cell_type": "code",
      "metadata": {
        "id": "oTGU4oHkkC2f"
      },
      "source": [
        "#Convert data types from double to float\n",
        "x_train = x_train.float()\n",
        "y_train = y_train.long()\n",
        "\n",
        "\n",
        "x_test = x_test.float()\n",
        "y_test = y_test.long()"
      ],
      "execution_count": null,
      "outputs": []
    },
    {
      "cell_type": "code",
      "metadata": {
        "colab": {
          "base_uri": "https://localhost:8080/"
        },
        "id": "_V0ExoZHgvY9",
        "outputId": "15accd4b-d817-402e-f5b4-732082b89375"
      },
      "source": [
        "print(\"Train Set: \", x_train.shape, y_train.shape)\n",
        "print(\"Test Set: \", x_test.shape, y_test.shape)"
      ],
      "execution_count": null,
      "outputs": [
        {
          "output_type": "stream",
          "name": "stdout",
          "text": [
            "Train Set:  torch.Size([2066, 48]) torch.Size([2066])\n",
            "Test Set:  torch.Size([886, 48]) torch.Size([886])\n"
          ]
        }
      ]
    },
    {
      "cell_type": "markdown",
      "metadata": {
        "id": "nR6wiD53wZCc"
      },
      "source": [
        "## Task 1"
      ]
    },
    {
      "cell_type": "markdown",
      "metadata": {
        "id": "XX5FnVTzwZCc"
      },
      "source": [
        "You are asked to build a three-layer feed-forward neural network to solve the monitoring problem of injection molding machine. \n",
        "\n",
        "Your implementation must be in Pytorch and executable in Google Colab environments. \n",
        "\n",
        "The proportion of training and testing samples is 70:30 where your model must deliver the  smallest  testing  error  possible.    \n",
        "\n",
        "In  that  case,  you  need  to  select  the  number  of  nodes  of  hidden layers,  the  number  of  epochs,  the  learning  rates,  the  mini-batch  size,  etc.  that  lead  to  the  smallest testing error. \n",
        "\n",
        "In this assignment, you have to use the SGD optimizer as exemplified in the lab materials under the mini-batch update fashion. \n",
        "\n",
        "The evaluation metric here is the classification error. \n",
        "\n",
        "No feature selection is allowed here. "
      ]
    },
    {
      "cell_type": "code",
      "metadata": {
        "id": "Q4ja9lMjsXm7"
      },
      "source": [
        "EPOCHS = 1000\n",
        "LR = 0.4\n",
        "BATCH_SIZE = 64\n",
        "\n",
        "input_dim = 48\n",
        "hidden_dim = 128\n",
        "output_dim = 3\n",
        "HIDDEN_LAYERS = 3\n",
        "\n",
        "loss_fn = F.cross_entropy"
      ],
      "execution_count": null,
      "outputs": []
    },
    {
      "cell_type": "code",
      "metadata": {
        "id": "yBuXsxP_8rgX"
      },
      "source": [
        "class ourDataset(Dataset):\n",
        "  def __init__(self,x,y):\n",
        "    self.x = x\n",
        "    self.y = y\n",
        "    self.length = self.x.shape[0]  \n",
        "  def __getitem__(self,idx):\n",
        "    return self.x[idx],self.y[idx]  \n",
        "  def __len__(self):\n",
        "    return self.length"
      ],
      "execution_count": null,
      "outputs": []
    },
    {
      "cell_type": "code",
      "metadata": {
        "id": "4rEFKupxGLuw"
      },
      "source": [
        "device = torch.device(\"cuda\")\n",
        "\n",
        "x_train=x_train.to(device)\n",
        "y_train=y_train.to(device)\n",
        "x_test=x_test.to(device)\n",
        "y_test=y_test.to(device)"
      ],
      "execution_count": null,
      "outputs": []
    },
    {
      "cell_type": "code",
      "metadata": {
        "id": "oCUTvTZe9a8i"
      },
      "source": [
        "train_dataset = ourDataset(x_train, y_train)\n",
        "test_dataset = ourDataset(x_test, y_test)"
      ],
      "execution_count": null,
      "outputs": []
    },
    {
      "cell_type": "code",
      "metadata": {
        "id": "2LoThIsVzbiw"
      },
      "source": [
        "train_loader = torch.utils.data.DataLoader(dataset=train_dataset, \n",
        "                                           batch_size=BATCH_SIZE, \n",
        "                                           shuffle=True)\n",
        "\n",
        "test_loader = torch.utils.data.DataLoader(dataset=test_dataset, \n",
        "                                          batch_size=BATCH_SIZE, \n",
        "                                          shuffle=False)"
      ],
      "execution_count": null,
      "outputs": []
    },
    {
      "cell_type": "code",
      "metadata": {
        "id": "lQGRAInmwk30"
      },
      "source": [
        "class FFNetwork(nn.Module):\n",
        "  def __init__(self, input_dim, hidden_dim, output_dim, hidden_layers=3):\n",
        "    super().__init__()\n",
        "    torch.manual_seed(0)\n",
        "    self.layers = []\n",
        "    self.layers.append(nn.Linear(input_dim, hidden_dim))\n",
        "    self.layers.append(nn.ReLU())\n",
        "    for i in range(hidden_layers-1):\n",
        "      self.layers.append(nn.Linear(hidden_dim, hidden_dim))\n",
        "      self.layers.append(nn.ReLU())\n",
        "    self.layers.append(nn.Linear(hidden_dim, output_dim))\n",
        "    self.layers.append(nn.Softmax())\n",
        "\n",
        "    self.net = nn.Sequential(*self.layers)\n",
        "\n",
        "  def forward(self, X):\n",
        "    return self.net(X)\n",
        "\n",
        "  def predict(self, X):\n",
        "    Y_pred = self.forward(X)\n",
        "    return Y_pred"
      ],
      "execution_count": null,
      "outputs": []
    },
    {
      "cell_type": "code",
      "metadata": {
        "id": "wHOrTRgNnOi1"
      },
      "source": [
        "def accuracy(y_hat, y):\n",
        "  pred = torch.argmax(y_hat, dim=1)\n",
        "  return (pred == y).float().mean()"
      ],
      "execution_count": null,
      "outputs": []
    },
    {
      "cell_type": "code",
      "metadata": {
        "id": "mJIVKG8zKzmr"
      },
      "source": [
        "def fit(x, y, model, opt, loss_fn, epochs = 1000):  \n",
        "  start = time.time()\n",
        "  losses = []\n",
        "  for epoch in range(epochs):\n",
        "    for i,(x_value,y_value) in enumerate(train_loader):\n",
        "      loss = loss_fn(model(x_value), y_value)\n",
        "      losses.append(loss.item())\n",
        "      loss.backward()\n",
        "      opt.step()\n",
        "      opt.zero_grad()\n",
        "    if (epoch%100==0):\n",
        "      print(\"[%d/%d] mean_loss : %0.2f training_acc : %0.2f\" %(epoch, epochs, np.mean(losses), accuracy(model(x),y_train)))\n",
        "  end = time.time()\n",
        "  timeTaken = end - start\n",
        "  print(\"Execution Time: \", \"{:.2f}\".format(timeTaken),\"s\")\n",
        "  return loss.item()"
      ],
      "execution_count": null,
      "outputs": []
    },
    {
      "cell_type": "code",
      "metadata": {
        "id": "cfnFgsUEh6DS",
        "colab": {
          "base_uri": "https://localhost:8080/"
        },
        "outputId": "e52c6fbb-27aa-4056-bf22-e70ea256b4d2"
      },
      "source": [
        "fn = FFNetwork(input_dim, hidden_dim, output_dim)\n",
        "fn.to(device)"
      ],
      "execution_count": null,
      "outputs": [
        {
          "output_type": "execute_result",
          "data": {
            "text/plain": [
              "FFNetwork(\n",
              "  (net): Sequential(\n",
              "    (0): Linear(in_features=48, out_features=128, bias=True)\n",
              "    (1): ReLU()\n",
              "    (2): Linear(in_features=128, out_features=128, bias=True)\n",
              "    (3): ReLU()\n",
              "    (4): Linear(in_features=128, out_features=128, bias=True)\n",
              "    (5): ReLU()\n",
              "    (6): Linear(in_features=128, out_features=3, bias=True)\n",
              "    (7): Softmax(dim=None)\n",
              "  )\n",
              ")"
            ]
          },
          "metadata": {},
          "execution_count": 28
        }
      ]
    },
    {
      "cell_type": "code",
      "metadata": {
        "id": "sllK5ESq4zQ3"
      },
      "source": [
        "opt = optim.SGD(fn.parameters(), lr=LR)"
      ],
      "execution_count": null,
      "outputs": []
    },
    {
      "cell_type": "code",
      "metadata": {
        "colab": {
          "base_uri": "https://localhost:8080/"
        },
        "id": "MY_wthZwFaHb",
        "outputId": "3bcb4243-3e55-40d1-960b-d0ae70965c4d"
      },
      "source": [
        "print('Final loss', fit(x_train, y_train, fn, opt, loss_fn, EPOCHS))"
      ],
      "execution_count": null,
      "outputs": [
        {
          "output_type": "stream",
          "name": "stderr",
          "text": [
            "/usr/local/lib/python3.7/dist-packages/torch/nn/modules/container.py:139: UserWarning: Implicit dimension choice for softmax has been deprecated. Change the call to include dim=X as an argument.\n",
            "  input = module(input)\n"
          ]
        },
        {
          "output_type": "stream",
          "name": "stdout",
          "text": [
            "[0/1500] mean_loss : 0.55 training_acc : 1.00\n",
            "[100/1500] mean_loss : 0.55 training_acc : 1.00\n",
            "[200/1500] mean_loss : 0.55 training_acc : 1.00\n",
            "[300/1500] mean_loss : 0.55 training_acc : 1.00\n",
            "[400/1500] mean_loss : 0.55 training_acc : 1.00\n",
            "[500/1500] mean_loss : 0.55 training_acc : 1.00\n",
            "[600/1500] mean_loss : 0.55 training_acc : 1.00\n",
            "[700/1500] mean_loss : 0.55 training_acc : 1.00\n",
            "[800/1500] mean_loss : 0.55 training_acc : 1.00\n",
            "[900/1500] mean_loss : 0.55 training_acc : 1.00\n",
            "[1000/1500] mean_loss : 0.55 training_acc : 1.00\n",
            "[1100/1500] mean_loss : 0.55 training_acc : 1.00\n",
            "[1200/1500] mean_loss : 0.55 training_acc : 1.00\n",
            "[1300/1500] mean_loss : 0.55 training_acc : 1.00\n",
            "[1400/1500] mean_loss : 0.55 training_acc : 1.00\n",
            "Execution Time:  165.70 s\n",
            "Final loss 0.5514451265335083\n"
          ]
        }
      ]
    },
    {
      "cell_type": "code",
      "metadata": {
        "colab": {
          "base_uri": "https://localhost:8080/"
        },
        "id": "gulESMc7nCJ6",
        "outputId": "79792c7e-cc80-48c1-f17b-527defca1303"
      },
      "source": [
        "y_pred_train = fn.predict(x_train)\n",
        "y_pred_val = fn.predict(x_test)\n",
        "accuracy_train = accuracy(y_pred_train, y_train)\n",
        "accuracy_val = accuracy(y_pred_val, y_test)"
      ],
      "execution_count": null,
      "outputs": [
        {
          "output_type": "stream",
          "name": "stderr",
          "text": [
            "/usr/local/lib/python3.7/dist-packages/torch/nn/modules/container.py:139: UserWarning: Implicit dimension choice for softmax has been deprecated. Change the call to include dim=X as an argument.\n",
            "  input = module(input)\n"
          ]
        }
      ]
    },
    {
      "cell_type": "code",
      "metadata": {
        "colab": {
          "base_uri": "https://localhost:8080/"
        },
        "id": "_Fihc-p0nYbZ",
        "outputId": "1b0f1ef1-9129-4f46-ac0e-368ca4408731"
      },
      "source": [
        "print(\"Training accuracy\", (accuracy_train))\n",
        "print(\"Validation accuracy\",(accuracy_val))"
      ],
      "execution_count": null,
      "outputs": [
        {
          "output_type": "stream",
          "name": "stdout",
          "text": [
            "Training accuracy tensor(0.9589, device='cuda:0')\n",
            "Validation accuracy tensor(0.9673, device='cuda:0')\n"
          ]
        }
      ]
    },
    {
      "cell_type": "markdown",
      "metadata": {
        "id": "lRkeBmbTwZCd"
      },
      "source": [
        "# Task 2"
      ]
    },
    {
      "cell_type": "markdown",
      "metadata": {
        "id": "npZiOYz7wZCd"
      },
      "source": [
        "You are asked to study the effect of network structure: hidden nodes, hidden layers to the classification performance.  \n",
        "That  is,  you  try  different  network  configurations  and  understand  the  patterns. \n",
        "Your experiments have to be well-documented in your Jupyter notebook file and your report. \n",
        "It has to cover different aspects of network configurations such as shallow network, wide network, deep network etc."
      ]
    },
    {
      "cell_type": "markdown",
      "metadata": {
        "id": "QQCLgweGw-H0"
      },
      "source": [
        "### Effect of number of Hidden Layers "
      ]
    },
    {
      "cell_type": "code",
      "metadata": {
        "id": "Bz1nrR4-2hXW"
      },
      "source": [
        "HIDDEN_LAYERS = 5"
      ],
      "execution_count": null,
      "outputs": []
    },
    {
      "cell_type": "code",
      "metadata": {
        "colab": {
          "base_uri": "https://localhost:8080/"
        },
        "id": "kc6oE24c3C0f",
        "outputId": "39d07420-eaf1-4e4b-fd21-8d63b014d0e3"
      },
      "source": [
        "fn_hl = FFNetwork(input_dim, hidden_dim, output_dim, HIDDEN_LAYERS)\n",
        "fn_hl.to(device)"
      ],
      "execution_count": null,
      "outputs": [
        {
          "output_type": "execute_result",
          "data": {
            "text/plain": [
              "FFNetwork(\n",
              "  (net): Sequential(\n",
              "    (0): Linear(in_features=48, out_features=128, bias=True)\n",
              "    (1): ReLU()\n",
              "    (2): Linear(in_features=128, out_features=128, bias=True)\n",
              "    (3): ReLU()\n",
              "    (4): Linear(in_features=128, out_features=128, bias=True)\n",
              "    (5): ReLU()\n",
              "    (6): Linear(in_features=128, out_features=128, bias=True)\n",
              "    (7): ReLU()\n",
              "    (8): Linear(in_features=128, out_features=128, bias=True)\n",
              "    (9): ReLU()\n",
              "    (10): Linear(in_features=128, out_features=3, bias=True)\n",
              "    (11): Softmax(dim=None)\n",
              "  )\n",
              ")"
            ]
          },
          "metadata": {},
          "execution_count": 27
        }
      ]
    },
    {
      "cell_type": "code",
      "metadata": {
        "id": "LBnvT_2z5Dlo"
      },
      "source": [
        "opt_hl = optim.SGD(fn_hl.parameters(), lr=LR)"
      ],
      "execution_count": null,
      "outputs": []
    },
    {
      "cell_type": "code",
      "metadata": {
        "id": "Pqtx4dkpwZCf",
        "colab": {
          "base_uri": "https://localhost:8080/"
        },
        "outputId": "0054a8ee-11a7-4ae2-cb2d-1644dbd2b6db"
      },
      "source": [
        "print('Final loss', fit(x_train, y_train, fn_hl, opt_hl, loss_fn, EPOCHS))"
      ],
      "execution_count": null,
      "outputs": [
        {
          "output_type": "stream",
          "name": "stderr",
          "text": [
            "/usr/local/lib/python3.7/dist-packages/torch/nn/modules/container.py:139: UserWarning: Implicit dimension choice for softmax has been deprecated. Change the call to include dim=X as an argument.\n",
            "  input = module(input)\n"
          ]
        },
        {
          "output_type": "stream",
          "name": "stdout",
          "text": [
            "[0/1000] mean_loss : 1.10 training_acc : 0.36\n",
            "[100/1000] mean_loss : 0.65 training_acc : 0.96\n",
            "[200/1000] mean_loss : 0.62 training_acc : 0.96\n",
            "[300/1000] mean_loss : 0.61 training_acc : 0.96\n",
            "[400/1000] mean_loss : 0.60 training_acc : 0.96\n",
            "[500/1000] mean_loss : 0.60 training_acc : 0.96\n",
            "[600/1000] mean_loss : 0.60 training_acc : 0.96\n",
            "[700/1000] mean_loss : 0.60 training_acc : 0.96\n",
            "[800/1000] mean_loss : 0.60 training_acc : 0.96\n",
            "[900/1000] mean_loss : 0.60 training_acc : 0.96\n",
            "Final loss 0.5514453053474426\n"
          ]
        }
      ]
    },
    {
      "cell_type": "code",
      "metadata": {
        "id": "lZRzGtgk3pjF",
        "colab": {
          "base_uri": "https://localhost:8080/"
        },
        "outputId": "696e9559-d8c2-474d-9ada-662c44d9814e"
      },
      "source": [
        "y_pred_train = fn_hl.predict(x_train)\n",
        "y_pred_val = fn_hl.predict(x_test)\n",
        "accuracy_train = accuracy(y_pred_train, y_train)\n",
        "accuracy_val = accuracy(y_pred_val, y_test)"
      ],
      "execution_count": null,
      "outputs": [
        {
          "output_type": "stream",
          "name": "stderr",
          "text": [
            "/usr/local/lib/python3.7/dist-packages/torch/nn/modules/container.py:139: UserWarning: Implicit dimension choice for softmax has been deprecated. Change the call to include dim=X as an argument.\n",
            "  input = module(input)\n"
          ]
        }
      ]
    },
    {
      "cell_type": "code",
      "metadata": {
        "id": "kds_yME_3tTm",
        "colab": {
          "base_uri": "https://localhost:8080/"
        },
        "outputId": "61791e4c-2cd6-424a-8fef-b4e44c3940b2"
      },
      "source": [
        "print(\"Training accuracy\", (accuracy_train))\n",
        "print(\"Validation accuracy\",(accuracy_val))"
      ],
      "execution_count": null,
      "outputs": [
        {
          "output_type": "stream",
          "name": "stdout",
          "text": [
            "Training accuracy tensor(0.9637, device='cuda:0')\n",
            "Validation accuracy tensor(0.9560, device='cuda:0')\n"
          ]
        }
      ]
    },
    {
      "cell_type": "markdown",
      "metadata": {
        "id": "5KJj6MELAgdR"
      },
      "source": [
        "From our tests through the different hidden layers, we find that having 5 hidden layers gives the optimal validation and training accuracy.\n",
        "\n"
      ]
    },
    {
      "cell_type": "markdown",
      "metadata": {
        "id": "iMs0ESUwBClH"
      },
      "source": [
        "### Effect of Size of Hidden Nodes"
      ]
    },
    {
      "cell_type": "code",
      "metadata": {
        "id": "IwXz54heAgFQ"
      },
      "source": [
        "hidden_dim = 128"
      ],
      "execution_count": null,
      "outputs": []
    },
    {
      "cell_type": "code",
      "metadata": {
        "colab": {
          "base_uri": "https://localhost:8080/"
        },
        "id": "Et_3ecveBb8J",
        "outputId": "ac575ad7-400f-42d4-b434-678095ab8f99"
      },
      "source": [
        "fn_hn = FFNetwork(input_dim, hidden_dim, output_dim, HIDDEN_LAYERS)\n",
        "fn_hn.to(device)"
      ],
      "execution_count": null,
      "outputs": [
        {
          "output_type": "execute_result",
          "data": {
            "text/plain": [
              "FFNetwork(\n",
              "  (net): Sequential(\n",
              "    (0): Linear(in_features=48, out_features=128, bias=True)\n",
              "    (1): ReLU()\n",
              "    (2): Linear(in_features=128, out_features=128, bias=True)\n",
              "    (3): ReLU()\n",
              "    (4): Linear(in_features=128, out_features=128, bias=True)\n",
              "    (5): ReLU()\n",
              "    (6): Linear(in_features=128, out_features=128, bias=True)\n",
              "    (7): ReLU()\n",
              "    (8): Linear(in_features=128, out_features=128, bias=True)\n",
              "    (9): ReLU()\n",
              "    (10): Linear(in_features=128, out_features=3, bias=True)\n",
              "    (11): Softmax(dim=None)\n",
              "  )\n",
              ")"
            ]
          },
          "metadata": {},
          "execution_count": 27
        }
      ]
    },
    {
      "cell_type": "code",
      "metadata": {
        "id": "evsL5FLwBhZb"
      },
      "source": [
        "opt_hn = optim.SGD(fn_hn.parameters(), lr=LR)"
      ],
      "execution_count": null,
      "outputs": []
    },
    {
      "cell_type": "code",
      "metadata": {
        "colab": {
          "base_uri": "https://localhost:8080/"
        },
        "id": "OJRATIZbBnS6",
        "outputId": "c1bd6e21-2188-4727-a5b0-a4803a1aa8c9"
      },
      "source": [
        "print('Final loss', fit(x_train, y_train, fn_hn, opt_hn, loss_fn, EPOCHS))"
      ],
      "execution_count": null,
      "outputs": [
        {
          "output_type": "stream",
          "name": "stderr",
          "text": [
            "/usr/local/lib/python3.7/dist-packages/torch/nn/modules/container.py:139: UserWarning: Implicit dimension choice for softmax has been deprecated. Change the call to include dim=X as an argument.\n",
            "  input = module(input)\n"
          ]
        },
        {
          "output_type": "stream",
          "name": "stdout",
          "text": [
            "[0/1000] mean_loss : 1.10 training_acc : 0.36\n",
            "[100/1000] mean_loss : 0.65 training_acc : 0.96\n",
            "[200/1000] mean_loss : 0.62 training_acc : 0.96\n",
            "[300/1000] mean_loss : 0.61 training_acc : 0.96\n",
            "[400/1000] mean_loss : 0.60 training_acc : 0.96\n",
            "[500/1000] mean_loss : 0.60 training_acc : 0.96\n",
            "[600/1000] mean_loss : 0.60 training_acc : 0.96\n",
            "[700/1000] mean_loss : 0.60 training_acc : 0.96\n",
            "[800/1000] mean_loss : 0.60 training_acc : 0.96\n",
            "[900/1000] mean_loss : 0.60 training_acc : 0.96\n",
            "Final loss 0.551445722579956\n"
          ]
        }
      ]
    },
    {
      "cell_type": "code",
      "metadata": {
        "colab": {
          "base_uri": "https://localhost:8080/"
        },
        "id": "JhCdJEsbBpb3",
        "outputId": "003569f3-90ec-4fc8-ba40-46787de0dca6"
      },
      "source": [
        "y_pred_train = fn_hn.predict(x_train)\n",
        "y_pred_val = fn_hn.predict(x_test)\n",
        "accuracy_train = accuracy(y_pred_train, y_train)\n",
        "accuracy_val = accuracy(y_pred_val, y_test)"
      ],
      "execution_count": null,
      "outputs": [
        {
          "output_type": "stream",
          "name": "stderr",
          "text": [
            "/usr/local/lib/python3.7/dist-packages/torch/nn/modules/container.py:139: UserWarning: Implicit dimension choice for softmax has been deprecated. Change the call to include dim=X as an argument.\n",
            "  input = module(input)\n"
          ]
        }
      ]
    },
    {
      "cell_type": "code",
      "metadata": {
        "colab": {
          "base_uri": "https://localhost:8080/"
        },
        "id": "H4VWyD0gBtVF",
        "outputId": "615ec250-0ee8-4ef4-cb04-d973c5fe8feb"
      },
      "source": [
        "print(\"Training accuracy\", (accuracy_train))\n",
        "print(\"Validation accuracy\",(accuracy_val))"
      ],
      "execution_count": null,
      "outputs": [
        {
          "output_type": "stream",
          "name": "stdout",
          "text": [
            "Training accuracy tensor(0.9637, device='cuda:0')\n",
            "Validation accuracy tensor(0.9560, device='cuda:0')\n"
          ]
        }
      ]
    },
    {
      "cell_type": "markdown",
      "metadata": {
        "id": "bhgMnZahHbSf"
      },
      "source": [
        "We find that with having 128 as the number of hidden nodes is the most optimal in getting the highest validation and training accuracy."
      ]
    },
    {
      "cell_type": "markdown",
      "metadata": {
        "id": "tQd3twDiwZCf"
      },
      "source": [
        "# Task 3"
      ]
    },
    {
      "cell_type": "markdown",
      "metadata": {
        "id": "9C2VNxG9wZCg"
      },
      "source": [
        "You are asked to study the effect of learning rates. \n",
        "\n",
        "As with Task 2, your experiments have to be well-documented. \n",
        "You need to give correct conclusion and give suggestion how learning rates should be set.  \n",
        "\n",
        "This  includes  possible  adaptive  learning  rates  where  the  value  increases  or  decreases  as  the increase of epochs. "
      ]
    },
    {
      "cell_type": "markdown",
      "metadata": {
        "id": "4dGKowiHIowM"
      },
      "source": [
        "### Effects of Learning Rates"
      ]
    },
    {
      "cell_type": "code",
      "metadata": {
        "id": "gDCMAcx6wZCg"
      },
      "source": [
        "LR = 0.5"
      ],
      "execution_count": null,
      "outputs": []
    },
    {
      "cell_type": "code",
      "metadata": {
        "colab": {
          "base_uri": "https://localhost:8080/"
        },
        "id": "nWNSYoFxJU23",
        "outputId": "e2add3cb-e22b-4d74-d8c4-c2b1f1a7f09e"
      },
      "source": [
        "fn_lr = FFNetwork(input_dim, hidden_dim, output_dim, HIDDEN_LAYERS)\n",
        "fn_lr.to(device)"
      ],
      "execution_count": null,
      "outputs": [
        {
          "output_type": "execute_result",
          "data": {
            "text/plain": [
              "FFNetwork(\n",
              "  (net): Sequential(\n",
              "    (0): Linear(in_features=48, out_features=128, bias=True)\n",
              "    (1): ReLU()\n",
              "    (2): Linear(in_features=128, out_features=128, bias=True)\n",
              "    (3): ReLU()\n",
              "    (4): Linear(in_features=128, out_features=128, bias=True)\n",
              "    (5): ReLU()\n",
              "    (6): Linear(in_features=128, out_features=128, bias=True)\n",
              "    (7): ReLU()\n",
              "    (8): Linear(in_features=128, out_features=128, bias=True)\n",
              "    (9): ReLU()\n",
              "    (10): Linear(in_features=128, out_features=3, bias=True)\n",
              "    (11): Softmax(dim=None)\n",
              "  )\n",
              ")"
            ]
          },
          "metadata": {},
          "execution_count": 28
        }
      ]
    },
    {
      "cell_type": "code",
      "metadata": {
        "id": "TuErHgAoJaFw"
      },
      "source": [
        "opt_lr = optim.SGD(fn_lr.parameters(), lr=LR)"
      ],
      "execution_count": null,
      "outputs": []
    },
    {
      "cell_type": "code",
      "metadata": {
        "colab": {
          "base_uri": "https://localhost:8080/"
        },
        "id": "o4v74P-IJegQ",
        "outputId": "4f352ba4-2543-4688-bb04-9a481f9642d9"
      },
      "source": [
        "print('Final loss', fit(x_train, y_train, fn_lr, opt_lr, loss_fn, EPOCHS))"
      ],
      "execution_count": null,
      "outputs": [
        {
          "output_type": "stream",
          "name": "stderr",
          "text": [
            "/usr/local/lib/python3.7/dist-packages/torch/nn/modules/container.py:139: UserWarning: Implicit dimension choice for softmax has been deprecated. Change the call to include dim=X as an argument.\n",
            "  input = module(input)\n"
          ]
        },
        {
          "output_type": "stream",
          "name": "stdout",
          "text": [
            "[0/1000] mean_loss : 1.10 training_acc : 0.36\n",
            "[100/1000] mean_loss : 0.65 training_acc : 0.96\n",
            "[200/1000] mean_loss : 0.62 training_acc : 0.96\n",
            "[300/1000] mean_loss : 0.61 training_acc : 0.96\n",
            "[400/1000] mean_loss : 0.60 training_acc : 0.96\n",
            "[500/1000] mean_loss : 0.60 training_acc : 0.96\n",
            "[600/1000] mean_loss : 0.60 training_acc : 0.96\n",
            "[700/1000] mean_loss : 0.60 training_acc : 0.96\n",
            "[800/1000] mean_loss : 0.60 training_acc : 0.96\n",
            "[900/1000] mean_loss : 0.60 training_acc : 0.96\n",
            "Execution Time:  148.32 s\n",
            "Final loss 0.5514464974403381\n"
          ]
        }
      ]
    },
    {
      "cell_type": "code",
      "metadata": {
        "colab": {
          "base_uri": "https://localhost:8080/"
        },
        "id": "83iPOlZKJiut",
        "outputId": "070fa146-3157-42b0-b1ef-1f90ade2a559"
      },
      "source": [
        "y_pred_train = fn_lr.predict(x_train)\n",
        "y_pred_val = fn_lr.predict(x_test)\n",
        "accuracy_train = accuracy(y_pred_train, y_train)\n",
        "accuracy_val = accuracy(y_pred_val, y_test)"
      ],
      "execution_count": null,
      "outputs": [
        {
          "output_type": "stream",
          "name": "stderr",
          "text": [
            "/usr/local/lib/python3.7/dist-packages/torch/nn/modules/container.py:139: UserWarning: Implicit dimension choice for softmax has been deprecated. Change the call to include dim=X as an argument.\n",
            "  input = module(input)\n"
          ]
        }
      ]
    },
    {
      "cell_type": "code",
      "metadata": {
        "colab": {
          "base_uri": "https://localhost:8080/"
        },
        "id": "oQ-_fRNTJlAQ",
        "outputId": "59b42e54-5f43-4ef4-fa16-b6265fe8401f"
      },
      "source": [
        "print(\"Training accuracy\", (accuracy_train))\n",
        "print(\"Validation accuracy\",(accuracy_val))"
      ],
      "execution_count": null,
      "outputs": [
        {
          "output_type": "stream",
          "name": "stdout",
          "text": [
            "Training accuracy tensor(0.9589, device='cuda:0')\n",
            "Validation accuracy tensor(0.9673, device='cuda:0')\n"
          ]
        }
      ]
    },
    {
      "cell_type": "markdown",
      "metadata": {
        "id": "qIeXWWCNTult"
      },
      "source": [
        "We find that learning rate of 0.3 is optimal for finding the optimal validation accuracy and training accuracy."
      ]
    },
    {
      "cell_type": "markdown",
      "metadata": {
        "id": "4LFupwlGT4p9"
      },
      "source": [
        "### Effects of Number of Epochs"
      ]
    },
    {
      "cell_type": "code",
      "metadata": {
        "id": "GuiIrjxkT9Rn"
      },
      "source": [
        "EPOCHS = 1000"
      ],
      "execution_count": null,
      "outputs": []
    },
    {
      "cell_type": "code",
      "metadata": {
        "colab": {
          "base_uri": "https://localhost:8080/"
        },
        "id": "wR4C2sq1UTYg",
        "outputId": "b66b3e4c-aa85-4495-8ed3-3a6c9f647209"
      },
      "source": [
        "fn_ep = FFNetwork(input_dim, hidden_dim, output_dim, HIDDEN_LAYERS)\n",
        "fn_ep.to(device)"
      ],
      "execution_count": null,
      "outputs": [
        {
          "output_type": "execute_result",
          "data": {
            "text/plain": [
              "FFNetwork(\n",
              "  (net): Sequential(\n",
              "    (0): Linear(in_features=48, out_features=128, bias=True)\n",
              "    (1): ReLU()\n",
              "    (2): Linear(in_features=128, out_features=128, bias=True)\n",
              "    (3): ReLU()\n",
              "    (4): Linear(in_features=128, out_features=128, bias=True)\n",
              "    (5): ReLU()\n",
              "    (6): Linear(in_features=128, out_features=128, bias=True)\n",
              "    (7): ReLU()\n",
              "    (8): Linear(in_features=128, out_features=128, bias=True)\n",
              "    (9): ReLU()\n",
              "    (10): Linear(in_features=128, out_features=3, bias=True)\n",
              "    (11): Softmax(dim=None)\n",
              "  )\n",
              ")"
            ]
          },
          "metadata": {},
          "execution_count": 29
        }
      ]
    },
    {
      "cell_type": "code",
      "metadata": {
        "id": "v8D-gOZ6UXqi"
      },
      "source": [
        "opt_ep = optim.SGD(fn_ep.parameters(), lr=LR)"
      ],
      "execution_count": null,
      "outputs": []
    },
    {
      "cell_type": "code",
      "metadata": {
        "colab": {
          "base_uri": "https://localhost:8080/"
        },
        "id": "Y35WCX9vU16O",
        "outputId": "378463ac-415a-499c-ff1b-5053624256be"
      },
      "source": [
        "print('Final loss', fit(x_train, y_train, fn_ep, opt_ep, loss_fn, EPOCHS))"
      ],
      "execution_count": null,
      "outputs": [
        {
          "output_type": "stream",
          "name": "stderr",
          "text": [
            "/usr/local/lib/python3.7/dist-packages/torch/nn/modules/container.py:139: UserWarning: Implicit dimension choice for softmax has been deprecated. Change the call to include dim=X as an argument.\n",
            "  input = module(input)\n"
          ]
        },
        {
          "output_type": "stream",
          "name": "stdout",
          "text": [
            "[0/1250] mean_loss : 1.10 training_acc : 0.37\n",
            "[100/1250] mean_loss : 0.65 training_acc : 0.96\n",
            "[200/1250] mean_loss : 0.62 training_acc : 0.96\n",
            "[300/1250] mean_loss : 0.61 training_acc : 0.96\n",
            "[400/1250] mean_loss : 0.61 training_acc : 0.96\n",
            "[500/1250] mean_loss : 0.60 training_acc : 0.96\n",
            "[600/1250] mean_loss : 0.60 training_acc : 0.96\n",
            "[700/1250] mean_loss : 0.60 training_acc : 0.96\n",
            "[800/1250] mean_loss : 0.60 training_acc : 0.96\n",
            "[900/1250] mean_loss : 0.60 training_acc : 0.96\n",
            "[1000/1250] mean_loss : 0.60 training_acc : 0.96\n",
            "[1100/1250] mean_loss : 0.60 training_acc : 0.96\n",
            "[1200/1250] mean_loss : 0.60 training_acc : 0.96\n",
            "Execution Time:  182.56 s\n",
            "Final loss 0.5514468550682068\n"
          ]
        }
      ]
    },
    {
      "cell_type": "code",
      "metadata": {
        "colab": {
          "base_uri": "https://localhost:8080/"
        },
        "id": "rhiAWh-LU3qb",
        "outputId": "1693a6f4-5597-4001-8a80-19dbc56438fd"
      },
      "source": [
        "y_pred_train = fn_ep.predict(x_train)\n",
        "y_pred_val = fn_ep.predict(x_test)\n",
        "accuracy_train = accuracy(y_pred_train, y_train)\n",
        "accuracy_val = accuracy(y_pred_val, y_test)"
      ],
      "execution_count": null,
      "outputs": [
        {
          "output_type": "stream",
          "name": "stderr",
          "text": [
            "/usr/local/lib/python3.7/dist-packages/torch/nn/modules/container.py:139: UserWarning: Implicit dimension choice for softmax has been deprecated. Change the call to include dim=X as an argument.\n",
            "  input = module(input)\n"
          ]
        }
      ]
    },
    {
      "cell_type": "code",
      "metadata": {
        "colab": {
          "base_uri": "https://localhost:8080/"
        },
        "id": "vaoTbOTaVIlW",
        "outputId": "bd24013c-8101-4ee4-9563-616496e3dc54"
      },
      "source": [
        "print(\"Training accuracy\", (accuracy_train))\n",
        "print(\"Validation accuracy\",(accuracy_val))"
      ],
      "execution_count": null,
      "outputs": [
        {
          "output_type": "stream",
          "name": "stdout",
          "text": [
            "Training accuracy tensor(0.9608, device='cuda:0')\n",
            "Validation accuracy tensor(0.9628, device='cuda:0')\n"
          ]
        }
      ]
    },
    {
      "cell_type": "markdown",
      "metadata": {
        "id": "F_Bj0aehfsos"
      },
      "source": [
        "We have found that 1000 is the optimal number of epochs.\n"
      ]
    },
    {
      "cell_type": "markdown",
      "metadata": {
        "id": "nOVTP2qLwZCg"
      },
      "source": [
        "# Task 4"
      ]
    },
    {
      "cell_type": "markdown",
      "metadata": {
        "id": "PBVNJZ0mwZCg"
      },
      "source": [
        "You are asked to study the effect of mini-batch size. \n",
        "\n",
        "You can set mini-batch size to be 1 (stochastic gradient  descent),  N  (batch  gradient  descent)  or  any  other  size.  \n",
        "\n",
        "The  most  important  aspect  is  to  be conclusive with your finding. \n",
        "\n",
        "The mini-batch size really depends on the problem size. "
      ]
    },
    {
      "cell_type": "code",
      "metadata": {
        "id": "GBeObDp-wZCg"
      },
      "source": [
        "BATCH_SIZE = 256"
      ],
      "execution_count": null,
      "outputs": []
    },
    {
      "cell_type": "code",
      "metadata": {
        "colab": {
          "base_uri": "https://localhost:8080/"
        },
        "id": "0c84xt_2gzDW",
        "outputId": "f228e304-e3c9-4419-c8b7-5ed1c93b10f6"
      },
      "source": [
        "fn_bs = FFNetwork(input_dim, hidden_dim, output_dim, HIDDEN_LAYERS)\n",
        "fn_bs.to(device)"
      ],
      "execution_count": null,
      "outputs": [
        {
          "output_type": "execute_result",
          "data": {
            "text/plain": [
              "FFNetwork(\n",
              "  (net): Sequential(\n",
              "    (0): Linear(in_features=48, out_features=128, bias=True)\n",
              "    (1): ReLU()\n",
              "    (2): Linear(in_features=128, out_features=128, bias=True)\n",
              "    (3): ReLU()\n",
              "    (4): Linear(in_features=128, out_features=128, bias=True)\n",
              "    (5): ReLU()\n",
              "    (6): Linear(in_features=128, out_features=128, bias=True)\n",
              "    (7): ReLU()\n",
              "    (8): Linear(in_features=128, out_features=128, bias=True)\n",
              "    (9): ReLU()\n",
              "    (10): Linear(in_features=128, out_features=3, bias=True)\n",
              "    (11): Softmax(dim=None)\n",
              "  )\n",
              ")"
            ]
          },
          "metadata": {},
          "execution_count": 27
        }
      ]
    },
    {
      "cell_type": "code",
      "metadata": {
        "id": "6R1QO5Phg0pa"
      },
      "source": [
        "opt_bs = optim.SGD(fn_bs.parameters(), lr=LR)"
      ],
      "execution_count": null,
      "outputs": []
    },
    {
      "cell_type": "code",
      "metadata": {
        "colab": {
          "base_uri": "https://localhost:8080/"
        },
        "id": "CdHTorDkg8jM",
        "outputId": "33b41aa7-0dba-44e0-9da7-f65001c8086d"
      },
      "source": [
        "print('Final loss', fit(x_train, y_train, fn_bs, opt_bs, loss_fn, EPOCHS))"
      ],
      "execution_count": null,
      "outputs": [
        {
          "output_type": "stream",
          "name": "stderr",
          "text": [
            "/usr/local/lib/python3.7/dist-packages/torch/nn/modules/container.py:139: UserWarning: Implicit dimension choice for softmax has been deprecated. Change the call to include dim=X as an argument.\n",
            "  input = module(input)\n"
          ]
        },
        {
          "output_type": "stream",
          "name": "stdout",
          "text": [
            "[0/1000] mean_loss : 1.10 training_acc : 0.37\n",
            "[100/1000] mean_loss : 0.65 training_acc : 0.96\n",
            "[200/1000] mean_loss : 0.62 training_acc : 0.96\n",
            "[300/1000] mean_loss : 0.61 training_acc : 0.96\n",
            "[400/1000] mean_loss : 0.61 training_acc : 0.96\n",
            "[500/1000] mean_loss : 0.60 training_acc : 0.96\n",
            "[600/1000] mean_loss : 0.60 training_acc : 0.96\n",
            "[700/1000] mean_loss : 0.60 training_acc : 0.96\n",
            "[800/1000] mean_loss : 0.60 training_acc : 0.96\n",
            "[900/1000] mean_loss : 0.60 training_acc : 0.96\n",
            "Execution Time:  145.53 s\n",
            "Final loss 0.5514452457427979\n"
          ]
        }
      ]
    },
    {
      "cell_type": "code",
      "metadata": {
        "colab": {
          "base_uri": "https://localhost:8080/"
        },
        "id": "nO7ZJs9Wg_s2",
        "outputId": "ab8bbb55-a796-4f81-e2b9-b1e59803bba3"
      },
      "source": [
        "y_pred_train = fn_bs.predict(x_train)\n",
        "y_pred_val = fn_bs.predict(x_test)\n",
        "accuracy_train = accuracy(y_pred_train, y_train)\n",
        "accuracy_val = accuracy(y_pred_val, y_test)"
      ],
      "execution_count": null,
      "outputs": [
        {
          "output_type": "stream",
          "name": "stderr",
          "text": [
            "/usr/local/lib/python3.7/dist-packages/torch/nn/modules/container.py:139: UserWarning: Implicit dimension choice for softmax has been deprecated. Change the call to include dim=X as an argument.\n",
            "  input = module(input)\n"
          ]
        }
      ]
    },
    {
      "cell_type": "code",
      "metadata": {
        "colab": {
          "base_uri": "https://localhost:8080/"
        },
        "id": "_ZCuYwB5hSgd",
        "outputId": "1d17967a-9912-4ebb-dbfe-01357256ff4a"
      },
      "source": [
        "print(\"Training accuracy\", (accuracy_train))\n",
        "print(\"Validation accuracy\",(accuracy_val))"
      ],
      "execution_count": null,
      "outputs": [
        {
          "output_type": "stream",
          "name": "stdout",
          "text": [
            "Training accuracy tensor(0.9613, device='cuda:0')\n",
            "Validation accuracy tensor(0.9616, device='cuda:0')\n"
          ]
        }
      ]
    },
    {
      "cell_type": "markdown",
      "metadata": {
        "id": "2pZNm7w1UgRt"
      },
      "source": [
        "We find that a batch size of 256 is the optimal input."
      ]
    },
    {
      "cell_type": "markdown",
      "metadata": {
        "id": "V9r6njEkZuRr"
      },
      "source": [
        "### Optimal Parameters"
      ]
    },
    {
      "cell_type": "code",
      "metadata": {
        "id": "k6mi8RKMhTEr"
      },
      "source": [
        "HIDDEN_LAYERS = 5\n",
        "hidden_dim = 128\n",
        "\n",
        "LR = 0.3\n",
        "EPOCHS = 1000\n",
        "\n",
        "BATCH_SIZE = 256"
      ],
      "execution_count": null,
      "outputs": []
    }
  ]
}