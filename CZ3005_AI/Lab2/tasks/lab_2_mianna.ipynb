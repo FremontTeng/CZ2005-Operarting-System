{
 "cells": [
  {
   "cell_type": "markdown",
   "metadata": {},
   "source": [
    "# Lab 2 Assigment"
   ]
  },
  {
   "cell_type": "markdown",
   "metadata": {},
   "source": [
    "Import relevant modules"
   ]
  },
  {
   "cell_type": "code",
   "execution_count": 1,
   "metadata": {},
   "outputs": [
    {
     "name": "stderr",
     "output_type": "stream",
     "text": [
      "C:\\Users\\MiannaTeng\\AppData\\Local\\Programs\\Python\\Python38\\lib\\site-packages\\torch\\package\\_directory_reader.py:17: UserWarning: Failed to initialize NumPy: numpy.core.multiarray failed to import (Triggered internally at  ..\\torch\\csrc\\utils\\tensor_numpy.cpp:68.)\n",
      "  _dtype_to_storage = {data_type(0).dtype: data_type for data_type in _storages}\n"
     ]
    }
   ],
   "source": [
    "import torch\n",
    "import torch.nn as nn"
   ]
  },
  {
   "cell_type": "markdown",
   "metadata": {},
   "source": [
    "## Task 1"
   ]
  },
  {
   "cell_type": "markdown",
   "metadata": {},
   "source": [
    "You are asked to build a three-layer feed-forward neural network to solve the monitoring problem of injection molding machine. \n",
    "\n",
    "Your implementation must be in Pytorch and executable in Google Colab environments. \n",
    "\n",
    "The proportion of training and testing samples is 70:30 where your model must deliver the  smallest  testing  error  possible.    \n",
    "\n",
    "In  that  case,  you  need  to  select  the  number  of  nodes  of  hidden layers,  the  number  of  epochs,  the  learning  rates,  the  mini-batch  size,  etc.  that  lead  to  the  smallest testing error. \n",
    "\n",
    "In this assignment, you have to use the SGD optimizer as exemplified in the lab materials under the mini-batch update fashion. \n",
    "\n",
    "The evaluation metric here is the classification error. \n",
    "\n",
    "No feature selection is allowed here. "
   ]
  },
  {
   "cell_type": "markdown",
   "metadata": {},
   "source": []
  },
  {
   "cell_type": "markdown",
   "metadata": {},
   "source": [
    "# Task 2"
   ]
  },
  {
   "cell_type": "markdown",
   "metadata": {},
   "source": [
    "You are asked to study the effect of network structure: hidden nodes, hidden layers to the classification performance.  \n",
    "That  is,  you  try  different  network  configurations  and  understand  the  patterns. \n",
    "Your experiments have to be well-documented in your Jupyter notebook file and your report. \n",
    "It has to cover different aspects of network configurations such as shallow network, wide network, deep network etc."
   ]
  },
  {
   "cell_type": "code",
   "execution_count": null,
   "metadata": {},
   "outputs": [],
   "source": [
    "\n"
   ]
  },
  {
   "cell_type": "markdown",
   "metadata": {},
   "source": [
    "# Task 3"
   ]
  },
  {
   "cell_type": "markdown",
   "metadata": {},
   "source": [
    "You are asked to study the effect of learning rates. \n",
    "\n",
    "As with Task 2, your experiments have to be well-documented. \n",
    "You need to give correct conclusion and give suggestion how learning rates should be set.  \n",
    "\n",
    "This  includes  possible  adaptive  learning  rates  where  the  value  increases  or  decreases  as  the increase of epochs. "
   ]
  },
  {
   "cell_type": "code",
   "execution_count": null,
   "metadata": {},
   "outputs": [],
   "source": []
  },
  {
   "cell_type": "markdown",
   "metadata": {},
   "source": [
    "# Task 4"
   ]
  },
  {
   "cell_type": "markdown",
   "metadata": {},
   "source": [
    "You are asked to study the effect of mini-batch size. \n",
    "\n",
    "You can set mini-batch size to be 1 (stochastic gradient  descent),  N  (batch  gradient  descent)  or  any  other  size.  \n",
    "\n",
    "The  most  important  aspect  is  to  be conclusive with your finding. \n",
    "\n",
    "The mini-batch size really depends on the problem size. "
   ]
  },
  {
   "cell_type": "code",
   "execution_count": null,
   "metadata": {},
   "outputs": [],
   "source": []
  }
 ],
 "metadata": {
  "interpreter": {
   "hash": "615db1b1fa0842ca9ab0b732f5085a0ba37de50b5337fdfd6e648cc09d6392a8"
  },
  "kernelspec": {
   "display_name": "Python 3.8.10 64-bit",
   "name": "python3"
  },
  "language_info": {
   "codemirror_mode": {
    "name": "ipython",
    "version": 3
   },
   "file_extension": ".py",
   "mimetype": "text/x-python",
   "name": "python",
   "nbconvert_exporter": "python",
   "pygments_lexer": "ipython3",
   "version": "3.8.10"
  },
  "orig_nbformat": 4
 },
 "nbformat": 4,
 "nbformat_minor": 2
}
