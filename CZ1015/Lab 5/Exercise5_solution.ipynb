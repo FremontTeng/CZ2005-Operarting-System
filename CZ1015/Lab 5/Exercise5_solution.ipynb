{
 "cells": [
  {
   "cell_type": "markdown",
   "metadata": {},
   "source": [
    "# Exercise 5 : Classification Tree"
   ]
  },
  {
   "cell_type": "markdown",
   "metadata": {},
   "source": [
    "# Problem 1 : Predicting CentralAir using SalePrice"
   ]
  },
  {
   "cell_type": "markdown",
   "metadata": {},
   "source": [
    "Download the Kaggle dataset “train.csv” from NTU Learn, posted corresponding to this Example Class.\n",
    "\n",
    "Import the complete dataset “train.csv” in Jupyter, as houseData = pd.read_csv('train.csv')"
   ]
  },
  {
   "cell_type": "code",
   "execution_count": 1,
   "metadata": {},
   "outputs": [],
   "source": [
    "# Basic Libraries\n",
    "import numpy as np\n",
    "import pandas as pd\n",
    "import seaborn as sb\n",
    "import matplotlib.pyplot as plt # we only need pyplot\n",
    "sb.set() # set the default Seaborn style for graphics"
   ]
  },
  {
   "cell_type": "code",
   "execution_count": 4,
   "metadata": {},
   "outputs": [
    {
     "data": {
      "text/html": [
       "<div>\n",
       "<style scoped>\n",
       "    .dataframe tbody tr th:only-of-type {\n",
       "        vertical-align: middle;\n",
       "    }\n",
       "\n",
       "    .dataframe tbody tr th {\n",
       "        vertical-align: top;\n",
       "    }\n",
       "\n",
       "    .dataframe thead th {\n",
       "        text-align: right;\n",
       "    }\n",
       "</style>\n",
       "<table border=\"1\" class=\"dataframe\">\n",
       "  <thead>\n",
       "    <tr style=\"text-align: right;\">\n",
       "      <th></th>\n",
       "      <th>Id</th>\n",
       "      <th>MSSubClass</th>\n",
       "      <th>MSZoning</th>\n",
       "      <th>LotFrontage</th>\n",
       "      <th>LotArea</th>\n",
       "      <th>Street</th>\n",
       "      <th>Alley</th>\n",
       "      <th>LotShape</th>\n",
       "      <th>LandContour</th>\n",
       "      <th>Utilities</th>\n",
       "      <th>...</th>\n",
       "      <th>PoolArea</th>\n",
       "      <th>PoolQC</th>\n",
       "      <th>Fence</th>\n",
       "      <th>MiscFeature</th>\n",
       "      <th>MiscVal</th>\n",
       "      <th>MoSold</th>\n",
       "      <th>YrSold</th>\n",
       "      <th>SaleType</th>\n",
       "      <th>SaleCondition</th>\n",
       "      <th>SalePrice</th>\n",
       "    </tr>\n",
       "  </thead>\n",
       "  <tbody>\n",
       "    <tr>\n",
       "      <th>0</th>\n",
       "      <td>1</td>\n",
       "      <td>60</td>\n",
       "      <td>RL</td>\n",
       "      <td>65.0</td>\n",
       "      <td>8450</td>\n",
       "      <td>Pave</td>\n",
       "      <td>NaN</td>\n",
       "      <td>Reg</td>\n",
       "      <td>Lvl</td>\n",
       "      <td>AllPub</td>\n",
       "      <td>...</td>\n",
       "      <td>0</td>\n",
       "      <td>NaN</td>\n",
       "      <td>NaN</td>\n",
       "      <td>NaN</td>\n",
       "      <td>0</td>\n",
       "      <td>2</td>\n",
       "      <td>2008</td>\n",
       "      <td>WD</td>\n",
       "      <td>Normal</td>\n",
       "      <td>208500</td>\n",
       "    </tr>\n",
       "    <tr>\n",
       "      <th>1</th>\n",
       "      <td>2</td>\n",
       "      <td>20</td>\n",
       "      <td>RL</td>\n",
       "      <td>80.0</td>\n",
       "      <td>9600</td>\n",
       "      <td>Pave</td>\n",
       "      <td>NaN</td>\n",
       "      <td>Reg</td>\n",
       "      <td>Lvl</td>\n",
       "      <td>AllPub</td>\n",
       "      <td>...</td>\n",
       "      <td>0</td>\n",
       "      <td>NaN</td>\n",
       "      <td>NaN</td>\n",
       "      <td>NaN</td>\n",
       "      <td>0</td>\n",
       "      <td>5</td>\n",
       "      <td>2007</td>\n",
       "      <td>WD</td>\n",
       "      <td>Normal</td>\n",
       "      <td>181500</td>\n",
       "    </tr>\n",
       "    <tr>\n",
       "      <th>2</th>\n",
       "      <td>3</td>\n",
       "      <td>60</td>\n",
       "      <td>RL</td>\n",
       "      <td>68.0</td>\n",
       "      <td>11250</td>\n",
       "      <td>Pave</td>\n",
       "      <td>NaN</td>\n",
       "      <td>IR1</td>\n",
       "      <td>Lvl</td>\n",
       "      <td>AllPub</td>\n",
       "      <td>...</td>\n",
       "      <td>0</td>\n",
       "      <td>NaN</td>\n",
       "      <td>NaN</td>\n",
       "      <td>NaN</td>\n",
       "      <td>0</td>\n",
       "      <td>9</td>\n",
       "      <td>2008</td>\n",
       "      <td>WD</td>\n",
       "      <td>Normal</td>\n",
       "      <td>223500</td>\n",
       "    </tr>\n",
       "    <tr>\n",
       "      <th>3</th>\n",
       "      <td>4</td>\n",
       "      <td>70</td>\n",
       "      <td>RL</td>\n",
       "      <td>60.0</td>\n",
       "      <td>9550</td>\n",
       "      <td>Pave</td>\n",
       "      <td>NaN</td>\n",
       "      <td>IR1</td>\n",
       "      <td>Lvl</td>\n",
       "      <td>AllPub</td>\n",
       "      <td>...</td>\n",
       "      <td>0</td>\n",
       "      <td>NaN</td>\n",
       "      <td>NaN</td>\n",
       "      <td>NaN</td>\n",
       "      <td>0</td>\n",
       "      <td>2</td>\n",
       "      <td>2006</td>\n",
       "      <td>WD</td>\n",
       "      <td>Abnorml</td>\n",
       "      <td>140000</td>\n",
       "    </tr>\n",
       "    <tr>\n",
       "      <th>4</th>\n",
       "      <td>5</td>\n",
       "      <td>60</td>\n",
       "      <td>RL</td>\n",
       "      <td>84.0</td>\n",
       "      <td>14260</td>\n",
       "      <td>Pave</td>\n",
       "      <td>NaN</td>\n",
       "      <td>IR1</td>\n",
       "      <td>Lvl</td>\n",
       "      <td>AllPub</td>\n",
       "      <td>...</td>\n",
       "      <td>0</td>\n",
       "      <td>NaN</td>\n",
       "      <td>NaN</td>\n",
       "      <td>NaN</td>\n",
       "      <td>0</td>\n",
       "      <td>12</td>\n",
       "      <td>2008</td>\n",
       "      <td>WD</td>\n",
       "      <td>Normal</td>\n",
       "      <td>250000</td>\n",
       "    </tr>\n",
       "  </tbody>\n",
       "</table>\n",
       "<p>5 rows × 81 columns</p>\n",
       "</div>"
      ],
      "text/plain": [
       "   Id  MSSubClass MSZoning  LotFrontage  LotArea Street Alley LotShape  \\\n",
       "0   1          60       RL         65.0     8450   Pave   NaN      Reg   \n",
       "1   2          20       RL         80.0     9600   Pave   NaN      Reg   \n",
       "2   3          60       RL         68.0    11250   Pave   NaN      IR1   \n",
       "3   4          70       RL         60.0     9550   Pave   NaN      IR1   \n",
       "4   5          60       RL         84.0    14260   Pave   NaN      IR1   \n",
       "\n",
       "  LandContour Utilities    ...     PoolArea PoolQC Fence MiscFeature MiscVal  \\\n",
       "0         Lvl    AllPub    ...            0    NaN   NaN         NaN       0   \n",
       "1         Lvl    AllPub    ...            0    NaN   NaN         NaN       0   \n",
       "2         Lvl    AllPub    ...            0    NaN   NaN         NaN       0   \n",
       "3         Lvl    AllPub    ...            0    NaN   NaN         NaN       0   \n",
       "4         Lvl    AllPub    ...            0    NaN   NaN         NaN       0   \n",
       "\n",
       "  MoSold YrSold  SaleType  SaleCondition  SalePrice  \n",
       "0      2   2008        WD         Normal     208500  \n",
       "1      5   2007        WD         Normal     181500  \n",
       "2      9   2008        WD         Normal     223500  \n",
       "3      2   2006        WD        Abnorml     140000  \n",
       "4     12   2008        WD         Normal     250000  \n",
       "\n",
       "[5 rows x 81 columns]"
      ]
     },
     "execution_count": 4,
     "metadata": {},
     "output_type": "execute_result"
    }
   ],
   "source": [
    "houseData = pd.read_csv('train.csv')\n",
    "houseData.head()"
   ]
  },
  {
   "cell_type": "markdown",
   "metadata": {},
   "source": [
    "a) Plot the binary distribution of houseData['CentralAir'] using catplot to check the ratio of Y against N.\n",
    "\n",
    "Plot houseData['CentralAir'] against houseData['SalePrice'] using boxplot, and note the strong relationship.\n",
    "\n",
    "You may also want to check the mutual relationship by plotting the two variables using a swarmplot."
   ]
  },
  {
   "cell_type": "code",
   "execution_count": 12,
   "metadata": {},
   "outputs": [],
   "source": [
    "centralair = pd.DataFrame(houseData['CentralAir'])  # Response"
   ]
  },
  {
   "cell_type": "code",
   "execution_count": 13,
   "metadata": {},
   "outputs": [
    {
     "data": {
      "text/plain": [
       "<matplotlib.axes._subplots.AxesSubplot at 0x16a51999cf8>"
      ]
     },
     "execution_count": 13,
     "metadata": {},
     "output_type": "execute_result"
    },
    {
     "data": {
      "image/png": "[encoded data removed]",
      "text/plain": [
       "<Figure size 432x288 with 1 Axes>"
      ]
     },
     "metadata": {
      "needs_background": "light"
     },
     "output_type": "display_data"
    }
   ],
   "source": [
    "sb.countplot(houseData[\"CentralAir\"])"
   ]
  },
  {
   "cell_type": "code",
   "execution_count": 14,
   "metadata": {},
   "outputs": [],
   "source": [
    "saleprice = pd.DataFrame(houseData['SalePrice'])      # Predictor"
   ]
  },
  {
   "cell_type": "code",
   "execution_count": 16,
   "metadata": {},
   "outputs": [
    {
     "data": {
      "text/plain": [
       "<matplotlib.axes._subplots.AxesSubplot at 0x16a51758c50>"
      ]
     },
     "execution_count": 16,
     "metadata": {},
     "output_type": "execute_result"
    },
    {
     "data": {
      "image/png": "[encoded data removed]",
      "text/plain": [
       "<Figure size 1296x432 with 1 Axes>"
      ]
     },
     "metadata": {
      "needs_background": "light"
     },
     "output_type": "display_data"
    }
   ],
   "source": [
    "# Create a joint dataframe by concatenating Sale Price and Central Air\n",
    "jointDF = pd.concat([saleprice, centralair], axis = 1, join_axes = [saleprice.index])\n",
    "\n",
    "# Joint Boxplot of Sale Price against Central Air\n",
    "f, axes = plt.subplots(1, 1, figsize=(18, 6))\n",
    "sb.boxplot(x = \"SalePrice\", y = \"CentralAir\", data = jointDF, orient = \"h\")"
   ]
  },
  {
   "cell_type": "code",
   "execution_count": 17,
   "metadata": {},
   "outputs": [
    {
     "data": {
      "text/plain": [
       "<matplotlib.axes._subplots.AxesSubplot at 0x16a518e4198>"
      ]
     },
     "execution_count": 17,
     "metadata": {},
     "output_type": "execute_result"
    },
    {
     "data": {
      "image/png": "[encoded data removed]",
      "text/plain": [
       "<Figure size 1296x432 with 1 Axes>"
      ]
     },
     "metadata": {
      "needs_background": "light"
     },
     "output_type": "display_data"
    }
   ],
   "source": [
    "# Create a joint dataframe by concatenating Sale Price and Central Air\n",
    "jointDF = pd.concat([saleprice, centralair], axis = 1, join_axes = [saleprice.index])\n",
    "\n",
    "# Joint Swarmplot of Sale Price against Central Air\n",
    "f, axes = plt.subplots(1, 1, figsize=(18, 6))\n",
    "sb.swarmplot(x = \"SalePrice\", y = \"CentralAir\", data = jointDF, orient = \"h\")"
   ]
  },
  {
   "cell_type": "markdown",
   "metadata": {},
   "source": [
    "b) Import Classification Tree model from Scikit-Learn : from sklearn.tree import DecisionTreeClassifier"
   ]
  },
  {
   "cell_type": "code",
   "execution_count": 18,
   "metadata": {},
   "outputs": [],
   "source": [
    "# Import Decision Tree Classifier model from Scikit-Learn\n",
    "from sklearn.tree import DecisionTreeClassifier\n",
    "\n",
    "# Create a Decision Tree Classifier object\n",
    "dectree = DecisionTreeClassifier(max_depth = 2)"
   ]
  },
  {
   "cell_type": "markdown",
   "metadata": {},
   "source": [
    "c) Partition the complete dataset houseData into houseData_train (1100 rows) and houseData_test (360 rows)."
   ]
  },
  {
   "cell_type": "code",
   "execution_count": 21,
   "metadata": {},
   "outputs": [
    {
     "name": "stdout",
     "output_type": "stream",
     "text": [
      "Train Set : (1100, 81)\n",
      "Test Set  : (360, 81)\n"
     ]
    }
   ],
   "source": [
    "# Train Set : 1100 samples\n",
    "houseData_train = pd.DataFrame(houseData[:1100])\n",
    "\n",
    "# Test Set : 360 samples\n",
    "houseData_test = pd.DataFrame(houseData[-360:])\n",
    "\n",
    "# Check the sample sizes\n",
    "print(\"Train Set :\", houseData_train.shape)\n",
    "print(\"Test Set  :\", houseData_test.shape)"
   ]
  },
  {
   "cell_type": "markdown",
   "metadata": {},
   "source": [
    "d) Training : Fit a Decision Tree model for classification of CentralAir using SalePrice using the following variables. \n",
    "\n",
    "y_train = pd.DataFrame(houseData_train['CentralAir'])\n",
    "\n",
    "X_train = pd.DataFrame(houseData_train['SalePrice'])\n"
   ]
  },
  {
   "cell_type": "code",
   "execution_count": 24,
   "metadata": {},
   "outputs": [
    {
     "data": {
      "text/plain": [
       "DecisionTreeClassifier(class_weight=None, criterion='gini', max_depth=2,\n",
       "            max_features=None, max_leaf_nodes=None,\n",
       "            min_impurity_decrease=0.0, min_impurity_split=None,\n",
       "            min_samples_leaf=1, min_samples_split=2,\n",
       "            min_weight_fraction_leaf=0.0, presort=False, random_state=None,\n",
       "            splitter='best')"
      ]
     },
     "execution_count": 24,
     "metadata": {},
     "output_type": "execute_result"
    }
   ],
   "source": [
    "y_train = pd.DataFrame(houseData_train['CentralAir'])\n",
    "x_train = pd.DataFrame(houseData_train['SalePrice'])\n",
    "\n",
    "# Train the Decision Tree Classifier model\n",
    "dectree.fit(x_train, y_train)"
   ]
  },
  {
   "cell_type": "code",
   "execution_count": 28,
   "metadata": {},
   "outputs": [],
   "source": [
    "# Import export_graphviz from sklearn.tree\n",
    "from sklearn.tree import export_graphviz\n",
    "\n",
    "# Export the Decision Tree as a dot object\n",
    "treedot = export_graphviz(dectree,                                      # the model\n",
    "                          feature_names = x_train.columns,          # the features \n",
    "                          out_file = None,                              # output file\n",
    "                          filled = True,                                # node colors\n",
    "                          rounded = True,                               # make pretty\n",
    "                          special_characters = True)                    # postscript"
   ]
  },
  {
   "cell_type": "markdown",
   "metadata": {},
   "source": [
    "e) Visualize the Decision Tree model using graphviz (needs the packages to be installed; check if they are installed)."
   ]
  },
  {
   "cell_type": "code",
   "execution_count": 29,
   "metadata": {},
   "outputs": [
    {
     "data": {
      "image/svg+xml": [
       "<?xml version=\"1.0\" encoding=\"UTF-8\" standalone=\"no\"?>\r\n",
       "<!DOCTYPE svg PUBLIC \"-//W3C//DTD SVG 1.1//EN\"\r\n",
       " \"http://www.w3.org/Graphics/SVG/1.1/DTD/svg11.dtd\">\r\n",
       "<!-- Generated by graphviz version 2.38.0 (20140413.2041)\r\n",
       " -->\r\n",
       "<!-- Title: Tree Pages: 1 -->\r\n",
       "<svg width=\"532pt\" height=\"269pt\"\r\n",
       " viewBox=\"0.00 0.00 532.00 269.00\" xmlns=\"http://www.w3.org/2000/svg\" xmlns:xlink=\"http://www.w3.org/1999/xlink\">\r\n",
       "<g id=\"graph0\" class=\"graph\" transform=\"scale(1 1) rotate(0) translate(4 265)\">\r\n",
       "<title>Tree</title>\r\n",
       "<polygon fill=\"white\" stroke=\"none\" points=\"-4,4 -4,-265 528,-265 528,4 -4,4\"/>\r\n",
       "<!-- 0 -->\r\n",
       "<g id=\"node1\" class=\"node\"><title>0</title>\r\n",
       "<path fill=\"#399de5\" fill-opacity=\"0.929412\" stroke=\"black\" d=\"M320,-261C320,-261 189,-261 189,-261 183,-261 177,-255 177,-249 177,-249 177,-205 177,-205 177,-199 183,-193 189,-193 189,-193 320,-193 320,-193 326,-193 332,-199 332,-205 332,-205 332,-249 332,-249 332,-255 326,-261 320,-261\"/>\r\n",
       "<text text-anchor=\"start\" x=\"185\" y=\"-245.8\" font-family=\"Helvetica,sans-Serif\" font-size=\"14.00\">SalePrice ≤ 107450.0</text>\r\n",
       "<text text-anchor=\"start\" x=\"217\" y=\"-230.8\" font-family=\"Helvetica,sans-Serif\" font-size=\"14.00\">gini = 0.125</text>\r\n",
       "<text text-anchor=\"start\" x=\"203\" y=\"-215.8\" font-family=\"Helvetica,sans-Serif\" font-size=\"14.00\">samples = 1100</text>\r\n",
       "<text text-anchor=\"start\" x=\"197.5\" y=\"-200.8\" font-family=\"Helvetica,sans-Serif\" font-size=\"14.00\">value = [74, 1026]</text>\r\n",
       "</g>\r\n",
       "<!-- 1 -->\r\n",
       "<g id=\"node2\" class=\"node\"><title>1</title>\r\n",
       "<path fill=\"#399de5\" fill-opacity=\"0.368627\" stroke=\"black\" d=\"M231.5,-157C231.5,-157 109.5,-157 109.5,-157 103.5,-157 97.5,-151 97.5,-145 97.5,-145 97.5,-101 97.5,-101 97.5,-95 103.5,-89 109.5,-89 109.5,-89 231.5,-89 231.5,-89 237.5,-89 243.5,-95 243.5,-101 243.5,-101 243.5,-145 243.5,-145 243.5,-151 237.5,-157 231.5,-157\"/>\r\n",
       "<text text-anchor=\"start\" x=\"105.5\" y=\"-141.8\" font-family=\"Helvetica,sans-Serif\" font-size=\"14.00\">SalePrice ≤ 79250.0</text>\r\n",
       "<text text-anchor=\"start\" x=\"133\" y=\"-126.8\" font-family=\"Helvetica,sans-Serif\" font-size=\"14.00\">gini = 0.474</text>\r\n",
       "<text text-anchor=\"start\" x=\"123\" y=\"-111.8\" font-family=\"Helvetica,sans-Serif\" font-size=\"14.00\">samples = 119</text>\r\n",
       "<text text-anchor=\"start\" x=\"122\" y=\"-96.8\" font-family=\"Helvetica,sans-Serif\" font-size=\"14.00\">value = [46, 73]</text>\r\n",
       "</g>\r\n",
       "<!-- 0&#45;&gt;1 -->\r\n",
       "<g id=\"edge1\" class=\"edge\"><title>0&#45;&gt;1</title>\r\n",
       "<path fill=\"none\" stroke=\"black\" d=\"M227.228,-192.884C219.965,-184.065 212.031,-174.43 204.458,-165.235\"/>\r\n",
       "<polygon fill=\"black\" stroke=\"black\" points=\"206.982,-162.794 197.923,-157.299 201.578,-167.244 206.982,-162.794\"/>\r\n",
       "<text text-anchor=\"middle\" x=\"195.515\" y=\"-178.483\" font-family=\"Helvetica,sans-Serif\" font-size=\"14.00\">True</text>\r\n",
       "</g>\r\n",
       "<!-- 4 -->\r\n",
       "<g id=\"node5\" class=\"node\"><title>4</title>\r\n",
       "<path fill=\"#399de5\" fill-opacity=\"0.972549\" stroke=\"black\" d=\"M405,-157C405,-157 274,-157 274,-157 268,-157 262,-151 262,-145 262,-145 262,-101 262,-101 262,-95 268,-89 274,-89 274,-89 405,-89 405,-89 411,-89 417,-95 417,-101 417,-101 417,-145 417,-145 417,-151 411,-157 405,-157\"/>\r\n",
       "<text text-anchor=\"start\" x=\"270\" y=\"-141.8\" font-family=\"Helvetica,sans-Serif\" font-size=\"14.00\">SalePrice ≤ 145125.0</text>\r\n",
       "<text text-anchor=\"start\" x=\"302\" y=\"-126.8\" font-family=\"Helvetica,sans-Serif\" font-size=\"14.00\">gini = 0.055</text>\r\n",
       "<text text-anchor=\"start\" x=\"292\" y=\"-111.8\" font-family=\"Helvetica,sans-Serif\" font-size=\"14.00\">samples = 981</text>\r\n",
       "<text text-anchor=\"start\" x=\"286.5\" y=\"-96.8\" font-family=\"Helvetica,sans-Serif\" font-size=\"14.00\">value = [28, 953]</text>\r\n",
       "</g>\r\n",
       "<!-- 0&#45;&gt;4 -->\r\n",
       "<g id=\"edge4\" class=\"edge\"><title>0&#45;&gt;4</title>\r\n",
       "<path fill=\"none\" stroke=\"black\" d=\"M282.097,-192.884C289.446,-184.065 297.475,-174.43 305.137,-165.235\"/>\r\n",
       "<polygon fill=\"black\" stroke=\"black\" points=\"308.037,-167.222 311.751,-157.299 302.66,-162.741 308.037,-167.222\"/>\r\n",
       "<text text-anchor=\"middle\" x=\"314.014\" y=\"-178.497\" font-family=\"Helvetica,sans-Serif\" font-size=\"14.00\">False</text>\r\n",
       "</g>\r\n",
       "<!-- 2 -->\r\n",
       "<g id=\"node3\" class=\"node\"><title>2</title>\r\n",
       "<path fill=\"#e58139\" fill-opacity=\"0.498039\" stroke=\"black\" d=\"M93,-53C93,-53 12,-53 12,-53 6,-53 0,-47 0,-41 0,-41 0,-12 0,-12 0,-6 6,-0 12,-0 12,-0 93,-0 93,-0 99,-0 105,-6 105,-12 105,-12 105,-41 105,-41 105,-47 99,-53 93,-53\"/>\r\n",
       "<text text-anchor=\"start\" x=\"15\" y=\"-37.8\" font-family=\"Helvetica,sans-Serif\" font-size=\"14.00\">gini = 0.444</text>\r\n",
       "<text text-anchor=\"start\" x=\"9\" y=\"-22.8\" font-family=\"Helvetica,sans-Serif\" font-size=\"14.00\">samples = 24</text>\r\n",
       "<text text-anchor=\"start\" x=\"8\" y=\"-7.8\" font-family=\"Helvetica,sans-Serif\" font-size=\"14.00\">value = [16, 8]</text>\r\n",
       "</g>\r\n",
       "<!-- 1&#45;&gt;2 -->\r\n",
       "<g id=\"edge2\" class=\"edge\"><title>1&#45;&gt;2</title>\r\n",
       "<path fill=\"none\" stroke=\"black\" d=\"M129.229,-88.9485C117.35,-79.4346 104.412,-69.074 92.6044,-59.6175\"/>\r\n",
       "<polygon fill=\"black\" stroke=\"black\" points=\"94.6302,-56.7558 84.6368,-53.2367 90.2545,-62.2196 94.6302,-56.7558\"/>\r\n",
       "</g>\r\n",
       "<!-- 3 -->\r\n",
       "<g id=\"node4\" class=\"node\"><title>3</title>\r\n",
       "<path fill=\"#399de5\" fill-opacity=\"0.537255\" stroke=\"black\" d=\"M224,-53C224,-53 135,-53 135,-53 129,-53 123,-47 123,-41 123,-41 123,-12 123,-12 123,-6 129,-0 135,-0 135,-0 224,-0 224,-0 230,-0 236,-6 236,-12 236,-12 236,-41 236,-41 236,-47 230,-53 224,-53\"/>\r\n",
       "<text text-anchor=\"start\" x=\"142\" y=\"-37.8\" font-family=\"Helvetica,sans-Serif\" font-size=\"14.00\">gini = 0.432</text>\r\n",
       "<text text-anchor=\"start\" x=\"136\" y=\"-22.8\" font-family=\"Helvetica,sans-Serif\" font-size=\"14.00\">samples = 95</text>\r\n",
       "<text text-anchor=\"start\" x=\"131\" y=\"-7.8\" font-family=\"Helvetica,sans-Serif\" font-size=\"14.00\">value = [30, 65]</text>\r\n",
       "</g>\r\n",
       "<!-- 1&#45;&gt;3 -->\r\n",
       "<g id=\"edge3\" class=\"edge\"><title>1&#45;&gt;3</title>\r\n",
       "<path fill=\"none\" stroke=\"black\" d=\"M173.648,-88.9485C174.441,-80.6238 175.295,-71.6509 176.1,-63.2027\"/>\r\n",
       "<polygon fill=\"black\" stroke=\"black\" points=\"179.585,-63.5235 177.049,-53.2367 172.616,-62.8598 179.585,-63.5235\"/>\r\n",
       "</g>\r\n",
       "<!-- 5 -->\r\n",
       "<g id=\"node6\" class=\"node\"><title>5</title>\r\n",
       "<path fill=\"#399de5\" fill-opacity=\"0.925490\" stroke=\"black\" d=\"M380.5,-53C380.5,-53 282.5,-53 282.5,-53 276.5,-53 270.5,-47 270.5,-41 270.5,-41 270.5,-12 270.5,-12 270.5,-6 276.5,-0 282.5,-0 282.5,-0 380.5,-0 380.5,-0 386.5,-0 392.5,-6 392.5,-12 392.5,-12 392.5,-41 392.5,-41 392.5,-47 386.5,-53 380.5,-53\"/>\r\n",
       "<text text-anchor=\"start\" x=\"294\" y=\"-37.8\" font-family=\"Helvetica,sans-Serif\" font-size=\"14.00\">gini = 0.128</text>\r\n",
       "<text text-anchor=\"start\" x=\"284\" y=\"-22.8\" font-family=\"Helvetica,sans-Serif\" font-size=\"14.00\">samples = 305</text>\r\n",
       "<text text-anchor=\"start\" x=\"278.5\" y=\"-7.8\" font-family=\"Helvetica,sans-Serif\" font-size=\"14.00\">value = [21, 284]</text>\r\n",
       "</g>\r\n",
       "<!-- 4&#45;&gt;5 -->\r\n",
       "<g id=\"edge5\" class=\"edge\"><title>4&#45;&gt;5</title>\r\n",
       "<path fill=\"none\" stroke=\"black\" d=\"M336.702,-88.9485C335.997,-80.6238 335.238,-71.6509 334.522,-63.2027\"/>\r\n",
       "<polygon fill=\"black\" stroke=\"black\" points=\"338.01,-62.9058 333.679,-53.2367 331.035,-63.4963 338.01,-62.9058\"/>\r\n",
       "</g>\r\n",
       "<!-- 6 -->\r\n",
       "<g id=\"node7\" class=\"node\"><title>6</title>\r\n",
       "<path fill=\"#399de5\" fill-opacity=\"0.988235\" stroke=\"black\" d=\"M512,-53C512,-53 423,-53 423,-53 417,-53 411,-47 411,-41 411,-41 411,-12 411,-12 411,-6 417,-0 423,-0 423,-0 512,-0 512,-0 518,-0 524,-6 524,-12 524,-12 524,-41 524,-41 524,-47 518,-53 512,-53\"/>\r\n",
       "<text text-anchor=\"start\" x=\"434\" y=\"-37.8\" font-family=\"Helvetica,sans-Serif\" font-size=\"14.00\">gini = 0.02</text>\r\n",
       "<text text-anchor=\"start\" x=\"420\" y=\"-22.8\" font-family=\"Helvetica,sans-Serif\" font-size=\"14.00\">samples = 676</text>\r\n",
       "<text text-anchor=\"start\" x=\"419\" y=\"-7.8\" font-family=\"Helvetica,sans-Serif\" font-size=\"14.00\">value = [7, 669]</text>\r\n",
       "</g>\r\n",
       "<!-- 4&#45;&gt;6 -->\r\n",
       "<g id=\"edge6\" class=\"edge\"><title>4&#45;&gt;6</title>\r\n",
       "<path fill=\"none\" stroke=\"black\" d=\"M384.268,-88.9485C397.279,-79.3431 411.458,-68.8747 424.366,-59.345\"/>\r\n",
       "<polygon fill=\"black\" stroke=\"black\" points=\"426.673,-61.992 432.64,-53.2367 422.516,-56.3605 426.673,-61.992\"/>\r\n",
       "</g>\r\n",
       "</g>\r\n",
       "</svg>\r\n"
      ],
      "text/plain": [
       "<graphviz.files.Source at 0x16a5254fcf8>"
      ]
     },
     "execution_count": 29,
     "metadata": {},
     "output_type": "execute_result"
    }
   ],
   "source": [
    "# Render using graphviz\n",
    "import graphviz\n",
    "graphviz.Source(treedot)"
   ]
  },
  {
   "cell_type": "markdown",
   "metadata": {},
   "source": [
    "f) Predict CentralAir for the train dataset using the Decision Tree model, and plot the Two-Way Confusion Matrix.\n",
    "\n",
    "Predict CentralAir for the test dataset using the Decision Tree model, and plot the Two-Way Confusion Matrix."
   ]
  },
  {
   "cell_type": "code",
   "execution_count": 46,
   "metadata": {},
   "outputs": [
    {
     "data": {
      "text/plain": [
       "<matplotlib.axes._subplots.AxesSubplot at 0x16a525dab38>"
      ]
     },
     "execution_count": 46,
     "metadata": {},
     "output_type": "execute_result"
    },
    {
     "data": {
      "image/png": "[encoded data removed]",
      "text/plain": [
       "<Figure size 432x288 with 2 Axes>"
      ]
     },
     "metadata": {
      "needs_background": "light"
     },
     "output_type": "display_data"
    }
   ],
   "source": [
    "# Predict Central Air corresponding to Sale Price Train\n",
    "y_train_pred = dectree.predict(x_train)\n",
    "\n",
    "# Plot the two-way Confusion Matrix\n",
    "from sklearn.metrics import confusion_matrix\n",
    "sb.heatmap(confusion_matrix(y_train, y_train_pred), \n",
    "           annot = True, fmt=\".0f\", annot_kws={\"size\": 18})"
   ]
  },
  {
   "cell_type": "code",
   "execution_count": 47,
   "metadata": {},
   "outputs": [
    {
     "data": {
      "text/plain": [
       "<matplotlib.axes._subplots.AxesSubplot at 0x16a526af9e8>"
      ]
     },
     "execution_count": 47,
     "metadata": {},
     "output_type": "execute_result"
    },
    {
     "data": {
      "image/png": "[encoded data removed]",
      "text/plain": [
       "<Figure size 432x288 with 2 Axes>"
      ]
     },
     "metadata": {
      "needs_background": "light"
     },
     "output_type": "display_data"
    }
   ],
   "source": [
    "y_test = pd.DataFrame(houseData_test['CentralAir'])\n",
    "x_test = pd.DataFrame(houseData_test['SalePrice'])\n",
    "\n",
    "# Predict Central Air corresponding to Sale Price Test\n",
    "y_test_pred = dectree.predict(x_test)\n",
    "\n",
    "# Plot the two-way Confusion Matrix\n",
    "from sklearn.metrics import confusion_matrix\n",
    "sb.heatmap(confusion_matrix(y_test, y_test_pred), \n",
    "           annot = True, fmt=\".0f\", annot_kws={\"size\": 18})"
   ]
  },
  {
   "cell_type": "markdown",
   "metadata": {},
   "source": [
    "g) Discuss with your Friends all the accuracy parameters of the decision tree model,\n",
    "\n",
    "including its Classification\n",
    "Accuracy, True Positive Rate, True Negative Rate, False Positive Rate and False Negative Rate."
   ]
  },
  {
   "cell_type": "code",
   "execution_count": 45,
   "metadata": {},
   "outputs": [
    {
     "name": "stdout",
     "output_type": "stream",
     "text": [
      "Classification Accuracy in Train Data: 0.9327272727272727\n",
      "Classification Accuracy in Test Data: 0.9416666666666667\n",
      "True Positive Rate in Train Data =  0.9922027290448343\n",
      "True Positive Rate in Test Data =  0.9911504424778761\n",
      "True Negative Rate in Train Data =  0.21621621621621623\n",
      "True Negative Rate in Test Data =  0.23809523809523808\n"
     ]
    }
   ],
   "source": [
    "#Measurements\n",
    "#Classificiation Accuracy TN+TP/Total\n",
    "\n",
    "print(\"Classification Accuracy in Train Data:\", dectree.score(x_train, y_train))\n",
    "print(\"Classification Accuracy in Test Data:\", dectree.score(x_test, y_test))\n",
    "\n",
    "#True Positive Rate\n",
    "tpr_train = 1018/(1018+8)\n",
    "tpr_test = 336/(336+3)\n",
    "\n",
    "print(\"True Positive Rate in Train Data = \", tpr_train)\n",
    "print(\"True Positive Rate in Test Data = \", tpr_test)\n",
    "\n",
    "#True Negative Rate\n",
    "tnr_train = 16/(16+58)\n",
    "tnr_test = 5/(5+16)\n",
    "\n",
    "print(\"True Negative Rate in Train Data = \", tnr_train)\n",
    "print(\"True Negative Rate in Test Data = \", tnr_test)"
   ]
  },
  {
   "cell_type": "code",
   "execution_count": 40,
   "metadata": {},
   "outputs": [
    {
     "name": "stdout",
     "output_type": "stream",
     "text": [
      "False Positive Rate in Train Data =  0.7837837837837838\n",
      "False Positive Rate in Test Data =  0.7619047619047619\n",
      "False Negative Rate in Train Data =  0.007797270955165692\n",
      "False Negative Rate in Test Data =  0.008849557522123894\n"
     ]
    }
   ],
   "source": [
    "#False Positive Rate\n",
    "fpr_train = 58/(16+58)\n",
    "fpr_test = 16/(16+5)\n",
    "\n",
    "print(\"False Positive Rate in Train Data = \", fpr_train)\n",
    "print(\"False Positive Rate in Test Data = \", fpr_test)\n",
    "\n",
    "#False Negative Rate\n",
    "fnr_train = 8/(8+1018)\n",
    "fnr_test = 3/(3+336)\n",
    "\n",
    "print(\"False Negative Rate in Train Data = \", fnr_train)\n",
    "print(\"False Negative Rate in Test Data = \", fnr_test)"
   ]
  },
  {
   "cell_type": "markdown",
   "metadata": {},
   "source": [
    "# Problem 2 : Predicting CentralAir using Other Variables"
   ]
  },
  {
   "cell_type": "markdown",
   "metadata": {},
   "source": [
    "Perform all the above steps on 'CentralAir' against each of the variables 'GrLivArea', 'LotArea', 'TotalBsmtSF'\n",
    "one-by-one to obtain individual Decision Trees.\n",
    "\n",
    "Discuss with your Friends about the models, compare the Classification\n",
    "Accuracy, check the True Positives and False Positives, and determine which model is the best to predict 'CentralAir'."
   ]
  },
  {
   "cell_type": "code",
   "execution_count": 62,
   "metadata": {},
   "outputs": [],
   "source": [
    "grlivarea_train = pd.DataFrame(houseData_train['GrLivArea'])\n",
    "lotarea_train = pd.DataFrame(houseData_train['LotArea'])\n",
    "totalbsmtsf_train = pd.DataFrame(houseData_train['TotalBsmtSF'])\n",
    "\n",
    "grlivarea_test = pd.DataFrame(houseData_test['GrLivArea'])\n",
    "lotarea_test = pd.DataFrame(houseData_test['LotArea'])\n",
    "totalbsmtsf_test = pd.DataFrame(houseData_test['TotalBsmtSF'])"
   ]
  },
  {
   "cell_type": "markdown",
   "metadata": {},
   "source": [
    "# GrLivArea "
   ]
  },
  {
   "cell_type": "code",
   "execution_count": 63,
   "metadata": {},
   "outputs": [
    {
     "data": {
      "text/plain": [
       "DecisionTreeClassifier(class_weight=None, criterion='gini', max_depth=2,\n",
       "            max_features=None, max_leaf_nodes=None,\n",
       "            min_impurity_decrease=0.0, min_impurity_split=None,\n",
       "            min_samples_leaf=1, min_samples_split=2,\n",
       "            min_weight_fraction_leaf=0.0, presort=False, random_state=None,\n",
       "            splitter='best')"
      ]
     },
     "execution_count": 63,
     "metadata": {},
     "output_type": "execute_result"
    }
   ],
   "source": [
    "# Train the Decision Tree Classifier model\n",
    "dectree.fit(grlivarea_train, y_train)"
   ]
  },
  {
   "cell_type": "code",
   "execution_count": 64,
   "metadata": {},
   "outputs": [
    {
     "data": {
      "image/svg+xml": [
       "<?xml version=\"1.0\" encoding=\"UTF-8\" standalone=\"no\"?>\r\n",
       "<!DOCTYPE svg PUBLIC \"-//W3C//DTD SVG 1.1//EN\"\r\n",
       " \"http://www.w3.org/Graphics/SVG/1.1/DTD/svg11.dtd\">\r\n",
       "<!-- Generated by graphviz version 2.38.0 (20140413.2041)\r\n",
       " -->\r\n",
       "<!-- Title: Tree Pages: 1 -->\r\n",
       "<svg width=\"319pt\" height=\"269pt\"\r\n",
       " viewBox=\"0.00 0.00 318.50 269.00\" xmlns=\"http://www.w3.org/2000/svg\" xmlns:xlink=\"http://www.w3.org/1999/xlink\">\r\n",
       "<g id=\"graph0\" class=\"graph\" transform=\"scale(1 1) rotate(0) translate(4 265)\">\r\n",
       "<title>Tree</title>\r\n",
       "<polygon fill=\"white\" stroke=\"none\" points=\"-4,4 -4,-265 314.5,-265 314.5,4 -4,4\"/>\r\n",
       "<!-- 0 -->\r\n",
       "<g id=\"node1\" class=\"node\"><title>0</title>\r\n",
       "<path fill=\"#399de5\" fill-opacity=\"0.929412\" stroke=\"black\" d=\"M168.5,-261C168.5,-261 60.5,-261 60.5,-261 54.5,-261 48.5,-255 48.5,-249 48.5,-249 48.5,-205 48.5,-205 48.5,-199 54.5,-193 60.5,-193 60.5,-193 168.5,-193 168.5,-193 174.5,-193 180.5,-199 180.5,-205 180.5,-205 180.5,-249 180.5,-249 180.5,-255 174.5,-261 168.5,-261\"/>\r\n",
       "<text text-anchor=\"start\" x=\"56.5\" y=\"-245.8\" font-family=\"Helvetica,sans-Serif\" font-size=\"14.00\">GrLivArea ≤ 562.5</text>\r\n",
       "<text text-anchor=\"start\" x=\"77\" y=\"-230.8\" font-family=\"Helvetica,sans-Serif\" font-size=\"14.00\">gini = 0.125</text>\r\n",
       "<text text-anchor=\"start\" x=\"63\" y=\"-215.8\" font-family=\"Helvetica,sans-Serif\" font-size=\"14.00\">samples = 1100</text>\r\n",
       "<text text-anchor=\"start\" x=\"57.5\" y=\"-200.8\" font-family=\"Helvetica,sans-Serif\" font-size=\"14.00\">value = [74, 1026]</text>\r\n",
       "</g>\r\n",
       "<!-- 1 -->\r\n",
       "<g id=\"node2\" class=\"node\"><title>1</title>\r\n",
       "<path fill=\"#e58139\" stroke=\"black\" d=\"M85,-149.5C85,-149.5 12,-149.5 12,-149.5 6,-149.5 0,-143.5 0,-137.5 0,-137.5 0,-108.5 0,-108.5 0,-102.5 6,-96.5 12,-96.5 12,-96.5 85,-96.5 85,-96.5 91,-96.5 97,-102.5 97,-108.5 97,-108.5 97,-137.5 97,-137.5 97,-143.5 91,-149.5 85,-149.5\"/>\r\n",
       "<text text-anchor=\"start\" x=\"19.5\" y=\"-134.3\" font-family=\"Helvetica,sans-Serif\" font-size=\"14.00\">gini = 0.0</text>\r\n",
       "<text text-anchor=\"start\" x=\"9\" y=\"-119.3\" font-family=\"Helvetica,sans-Serif\" font-size=\"14.00\">samples = 3</text>\r\n",
       "<text text-anchor=\"start\" x=\"8\" y=\"-104.3\" font-family=\"Helvetica,sans-Serif\" font-size=\"14.00\">value = [3, 0]</text>\r\n",
       "</g>\r\n",
       "<!-- 0&#45;&gt;1 -->\r\n",
       "<g id=\"edge1\" class=\"edge\"><title>0&#45;&gt;1</title>\r\n",
       "<path fill=\"none\" stroke=\"black\" d=\"M93.0717,-192.884C85.8843,-181.776 77.8583,-169.372 70.619,-158.184\"/>\r\n",
       "<polygon fill=\"black\" stroke=\"black\" points=\"73.384,-156.014 65.0129,-149.52 67.507,-159.817 73.384,-156.014\"/>\r\n",
       "<text text-anchor=\"middle\" x=\"59.7747\" y=\"-170.265\" font-family=\"Helvetica,sans-Serif\" font-size=\"14.00\">True</text>\r\n",
       "</g>\r\n",
       "<!-- 2 -->\r\n",
       "<g id=\"node3\" class=\"node\"><title>2</title>\r\n",
       "<path fill=\"#399de5\" fill-opacity=\"0.929412\" stroke=\"black\" d=\"M235.5,-157C235.5,-157 127.5,-157 127.5,-157 121.5,-157 115.5,-151 115.5,-145 115.5,-145 115.5,-101 115.5,-101 115.5,-95 121.5,-89 127.5,-89 127.5,-89 235.5,-89 235.5,-89 241.5,-89 247.5,-95 247.5,-101 247.5,-101 247.5,-145 247.5,-145 247.5,-151 241.5,-157 235.5,-157\"/>\r\n",
       "<text text-anchor=\"start\" x=\"123.5\" y=\"-141.8\" font-family=\"Helvetica,sans-Serif\" font-size=\"14.00\">GrLivArea ≤ 846.5</text>\r\n",
       "<text text-anchor=\"start\" x=\"144\" y=\"-126.8\" font-family=\"Helvetica,sans-Serif\" font-size=\"14.00\">gini = 0.121</text>\r\n",
       "<text text-anchor=\"start\" x=\"130\" y=\"-111.8\" font-family=\"Helvetica,sans-Serif\" font-size=\"14.00\">samples = 1097</text>\r\n",
       "<text text-anchor=\"start\" x=\"124.5\" y=\"-96.8\" font-family=\"Helvetica,sans-Serif\" font-size=\"14.00\">value = [71, 1026]</text>\r\n",
       "</g>\r\n",
       "<!-- 0&#45;&gt;2 -->\r\n",
       "<g id=\"edge2\" class=\"edge\"><title>0&#45;&gt;2</title>\r\n",
       "<path fill=\"none\" stroke=\"black\" d=\"M136.253,-192.884C141.928,-184.243 148.119,-174.819 154.048,-165.793\"/>\r\n",
       "<polygon fill=\"black\" stroke=\"black\" points=\"157.062,-167.579 159.627,-157.299 151.211,-163.736 157.062,-167.579\"/>\r\n",
       "<text text-anchor=\"middle\" x=\"164.697\" y=\"-178.08\" font-family=\"Helvetica,sans-Serif\" font-size=\"14.00\">False</text>\r\n",
       "</g>\r\n",
       "<!-- 3 -->\r\n",
       "<g id=\"node4\" class=\"node\"><title>3</title>\r\n",
       "<path fill=\"#399de5\" fill-opacity=\"0.694118\" stroke=\"black\" d=\"M158,-53C158,-53 69,-53 69,-53 63,-53 57,-47 57,-41 57,-41 57,-12 57,-12 57,-6 63,-0 69,-0 69,-0 158,-0 158,-0 164,-0 170,-6 170,-12 170,-12 170,-41 170,-41 170,-47 164,-53 158,-53\"/>\r\n",
       "<text text-anchor=\"start\" x=\"76\" y=\"-37.8\" font-family=\"Helvetica,sans-Serif\" font-size=\"14.00\">gini = 0.359</text>\r\n",
       "<text text-anchor=\"start\" x=\"70\" y=\"-22.8\" font-family=\"Helvetica,sans-Serif\" font-size=\"14.00\">samples = 47</text>\r\n",
       "<text text-anchor=\"start\" x=\"65\" y=\"-7.8\" font-family=\"Helvetica,sans-Serif\" font-size=\"14.00\">value = [11, 36]</text>\r\n",
       "</g>\r\n",
       "<!-- 2&#45;&gt;3 -->\r\n",
       "<g id=\"edge3\" class=\"edge\"><title>2&#45;&gt;3</title>\r\n",
       "<path fill=\"none\" stroke=\"black\" d=\"M157.717,-88.9485C151.332,-80.0749 144.416,-70.4648 137.993,-61.5388\"/>\r\n",
       "<polygon fill=\"black\" stroke=\"black\" points=\"140.701,-59.3094 132.02,-53.2367 135.019,-63.398 140.701,-59.3094\"/>\r\n",
       "</g>\r\n",
       "<!-- 4 -->\r\n",
       "<g id=\"node5\" class=\"node\"><title>4</title>\r\n",
       "<path fill=\"#399de5\" fill-opacity=\"0.941176\" stroke=\"black\" d=\"M298.5,-53C298.5,-53 200.5,-53 200.5,-53 194.5,-53 188.5,-47 188.5,-41 188.5,-41 188.5,-12 188.5,-12 188.5,-6 194.5,-0 200.5,-0 200.5,-0 298.5,-0 298.5,-0 304.5,-0 310.5,-6 310.5,-12 310.5,-12 310.5,-41 310.5,-41 310.5,-47 304.5,-53 298.5,-53\"/>\r\n",
       "<text text-anchor=\"start\" x=\"212\" y=\"-37.8\" font-family=\"Helvetica,sans-Serif\" font-size=\"14.00\">gini = 0.108</text>\r\n",
       "<text text-anchor=\"start\" x=\"198\" y=\"-22.8\" font-family=\"Helvetica,sans-Serif\" font-size=\"14.00\">samples = 1050</text>\r\n",
       "<text text-anchor=\"start\" x=\"196.5\" y=\"-7.8\" font-family=\"Helvetica,sans-Serif\" font-size=\"14.00\">value = [60, 990]</text>\r\n",
       "</g>\r\n",
       "<!-- 2&#45;&gt;4 -->\r\n",
       "<g id=\"edge4\" class=\"edge\"><title>2&#45;&gt;4</title>\r\n",
       "<path fill=\"none\" stroke=\"black\" d=\"M205.283,-88.9485C211.668,-80.0749 218.584,-70.4648 225.007,-61.5388\"/>\r\n",
       "<polygon fill=\"black\" stroke=\"black\" points=\"227.981,-63.398 230.98,-53.2367 222.299,-59.3094 227.981,-63.398\"/>\r\n",
       "</g>\r\n",
       "</g>\r\n",
       "</svg>\r\n"
      ],
      "text/plain": [
       "<graphviz.files.Source at 0x16a53974c50>"
      ]
     },
     "execution_count": 64,
     "metadata": {},
     "output_type": "execute_result"
    }
   ],
   "source": [
    "# Export the Decision Tree as a dot object\n",
    "treedot = export_graphviz(dectree,                                      # the model\n",
    "                          feature_names = grlivarea_train.columns,          # the features \n",
    "                          out_file = None,                              # output file\n",
    "                          filled = True,                                # node colors\n",
    "                          rounded = True,                               # make pretty\n",
    "                          special_characters = True)                    # postscript\n",
    "\n",
    "graphviz.Source(treedot)"
   ]
  },
  {
   "cell_type": "code",
   "execution_count": 65,
   "metadata": {},
   "outputs": [
    {
     "data": {
      "text/plain": [
       "<matplotlib.axes._subplots.AxesSubplot at 0x16a53991fd0>"
      ]
     },
     "execution_count": 65,
     "metadata": {},
     "output_type": "execute_result"
    },
    {
     "data": {
      "image/png": "[encoded data removed]",
      "text/plain": [
       "<Figure size 432x288 with 2 Axes>"
      ]
     },
     "metadata": {
      "needs_background": "light"
     },
     "output_type": "display_data"
    }
   ],
   "source": [
    "# Predict Central Air corresponding to Gr Liv Area Test\n",
    "y_train_pred = dectree.predict(grlivarea_train)\n",
    "\n",
    "# Plot the two-way Confusion Matrix\n",
    "from sklearn.metrics import confusion_matrix\n",
    "sb.heatmap(confusion_matrix(y_train, y_train_pred), \n",
    "           annot = True, fmt=\".0f\", annot_kws={\"size\": 18})"
   ]
  },
  {
   "cell_type": "code",
   "execution_count": 66,
   "metadata": {},
   "outputs": [
    {
     "data": {
      "text/plain": [
       "<matplotlib.axes._subplots.AxesSubplot at 0x16a53a17b38>"
      ]
     },
     "execution_count": 66,
     "metadata": {},
     "output_type": "execute_result"
    },
    {
     "data": {
      "image/png": "[encoded data removed]",
      "text/plain": [
       "<Figure size 432x288 with 2 Axes>"
      ]
     },
     "metadata": {
      "needs_background": "light"
     },
     "output_type": "display_data"
    }
   ],
   "source": [
    "# Predict Central Air corresponding to Gr Liv Area Test\n",
    "y_test_pred = dectree.predict(grlivarea_test)\n",
    "\n",
    "# Plot the two-way Confusion Matrix\n",
    "from sklearn.metrics import confusion_matrix\n",
    "sb.heatmap(confusion_matrix(y_test, y_test_pred), \n",
    "           annot = True, fmt=\".0f\", annot_kws={\"size\": 18})"
   ]
  },
  {
   "cell_type": "code",
   "execution_count": 67,
   "metadata": {},
   "outputs": [
    {
     "name": "stdout",
     "output_type": "stream",
     "text": [
      "Classification Accuracy \t: 0.9444444444444444\n",
      "True Positive Rate in Train Data =  1.0\n",
      "True Positive Rate in Test Data =  1.0\n",
      "False Positive Rate in Train Data =  0.9594594594594594\n",
      "False Positive Rate in Test Data =  0.9523809523809523\n"
     ]
    }
   ],
   "source": [
    "# Print the Classification Accuracy\n",
    "print(\"Classification Accuracy \\t:\", dectree.score(grlivarea_test, y_test))\n",
    "\n",
    "#True Positive Rate\n",
    "tpr_train = 1026/(1026+0)\n",
    "tpr_test = 339/(339+0)\n",
    "\n",
    "print(\"True Positive Rate in Train Data = \", tpr_train)\n",
    "print(\"True Positive Rate in Test Data = \", tpr_test)\n",
    "\n",
    "#False Positive Rate\n",
    "fpr_train = 71/(71+3)\n",
    "fpr_test = 20/(20+1)\n",
    "\n",
    "print(\"False Positive Rate in Train Data = \", fpr_train)\n",
    "print(\"False Positive Rate in Test Data = \", fpr_test)"
   ]
  },
  {
   "cell_type": "markdown",
   "metadata": {},
   "source": [
    "# LotArea"
   ]
  },
  {
   "cell_type": "code",
   "execution_count": 68,
   "metadata": {},
   "outputs": [
    {
     "data": {
      "text/plain": [
       "DecisionTreeClassifier(class_weight=None, criterion='gini', max_depth=2,\n",
       "            max_features=None, max_leaf_nodes=None,\n",
       "            min_impurity_decrease=0.0, min_impurity_split=None,\n",
       "            min_samples_leaf=1, min_samples_split=2,\n",
       "            min_weight_fraction_leaf=0.0, presort=False, random_state=None,\n",
       "            splitter='best')"
      ]
     },
     "execution_count": 68,
     "metadata": {},
     "output_type": "execute_result"
    }
   ],
   "source": [
    "# Train the Decision Tree Classifier model\n",
    "dectree.fit(lotarea_train, y_train)"
   ]
  },
  {
   "cell_type": "code",
   "execution_count": 69,
   "metadata": {},
   "outputs": [
    {
     "data": {
      "image/svg+xml": [
       "<?xml version=\"1.0\" encoding=\"UTF-8\" standalone=\"no\"?>\r\n",
       "<!DOCTYPE svg PUBLIC \"-//W3C//DTD SVG 1.1//EN\"\r\n",
       " \"http://www.w3.org/Graphics/SVG/1.1/DTD/svg11.dtd\">\r\n",
       "<!-- Generated by graphviz version 2.38.0 (20140413.2041)\r\n",
       " -->\r\n",
       "<!-- Title: Tree Pages: 1 -->\r\n",
       "<svg width=\"515pt\" height=\"269pt\"\r\n",
       " viewBox=\"0.00 0.00 514.50 269.00\" xmlns=\"http://www.w3.org/2000/svg\" xmlns:xlink=\"http://www.w3.org/1999/xlink\">\r\n",
       "<g id=\"graph0\" class=\"graph\" transform=\"scale(1 1) rotate(0) translate(4 265)\">\r\n",
       "<title>Tree</title>\r\n",
       "<polygon fill=\"white\" stroke=\"none\" points=\"-4,4 -4,-265 510.5,-265 510.5,4 -4,4\"/>\r\n",
       "<!-- 0 -->\r\n",
       "<g id=\"node1\" class=\"node\"><title>0</title>\r\n",
       "<path fill=\"#399de5\" fill-opacity=\"0.929412\" stroke=\"black\" d=\"M312.5,-261C312.5,-261 201.5,-261 201.5,-261 195.5,-261 189.5,-255 189.5,-249 189.5,-249 189.5,-205 189.5,-205 189.5,-199 195.5,-193 201.5,-193 201.5,-193 312.5,-193 312.5,-193 318.5,-193 324.5,-199 324.5,-205 324.5,-205 324.5,-249 324.5,-249 324.5,-255 318.5,-261 312.5,-261\"/>\r\n",
       "<text text-anchor=\"start\" x=\"197.5\" y=\"-245.8\" font-family=\"Helvetica,sans-Serif\" font-size=\"14.00\">LotArea ≤ 12157.5</text>\r\n",
       "<text text-anchor=\"start\" x=\"219.5\" y=\"-230.8\" font-family=\"Helvetica,sans-Serif\" font-size=\"14.00\">gini = 0.125</text>\r\n",
       "<text text-anchor=\"start\" x=\"205.5\" y=\"-215.8\" font-family=\"Helvetica,sans-Serif\" font-size=\"14.00\">samples = 1100</text>\r\n",
       "<text text-anchor=\"start\" x=\"200\" y=\"-200.8\" font-family=\"Helvetica,sans-Serif\" font-size=\"14.00\">value = [74, 1026]</text>\r\n",
       "</g>\r\n",
       "<!-- 1 -->\r\n",
       "<g id=\"node2\" class=\"node\"><title>1</title>\r\n",
       "<path fill=\"#399de5\" fill-opacity=\"0.913725\" stroke=\"black\" d=\"M236.5,-157C236.5,-157 125.5,-157 125.5,-157 119.5,-157 113.5,-151 113.5,-145 113.5,-145 113.5,-101 113.5,-101 113.5,-95 119.5,-89 125.5,-89 125.5,-89 236.5,-89 236.5,-89 242.5,-89 248.5,-95 248.5,-101 248.5,-101 248.5,-145 248.5,-145 248.5,-151 242.5,-157 236.5,-157\"/>\r\n",
       "<text text-anchor=\"start\" x=\"121.5\" y=\"-141.8\" font-family=\"Helvetica,sans-Serif\" font-size=\"14.00\">LotArea ≤ 12147.0</text>\r\n",
       "<text text-anchor=\"start\" x=\"143.5\" y=\"-126.8\" font-family=\"Helvetica,sans-Serif\" font-size=\"14.00\">gini = 0.149</text>\r\n",
       "<text text-anchor=\"start\" x=\"133.5\" y=\"-111.8\" font-family=\"Helvetica,sans-Serif\" font-size=\"14.00\">samples = 878</text>\r\n",
       "<text text-anchor=\"start\" x=\"128\" y=\"-96.8\" font-family=\"Helvetica,sans-Serif\" font-size=\"14.00\">value = [71, 807]</text>\r\n",
       "</g>\r\n",
       "<!-- 0&#45;&gt;1 -->\r\n",
       "<g id=\"edge1\" class=\"edge\"><title>0&#45;&gt;1</title>\r\n",
       "<path fill=\"none\" stroke=\"black\" d=\"M232.325,-192.884C225.821,-184.154 218.72,-174.625 211.932,-165.514\"/>\r\n",
       "<polygon fill=\"black\" stroke=\"black\" points=\"214.593,-163.227 205.811,-157.299 208.98,-167.409 214.593,-163.227\"/>\r\n",
       "<text text-anchor=\"middle\" x=\"202.198\" y=\"-178.337\" font-family=\"Helvetica,sans-Serif\" font-size=\"14.00\">True</text>\r\n",
       "</g>\r\n",
       "<!-- 4 -->\r\n",
       "<g id=\"node5\" class=\"node\"><title>4</title>\r\n",
       "<path fill=\"#399de5\" fill-opacity=\"0.988235\" stroke=\"black\" d=\"M389.5,-157C389.5,-157 278.5,-157 278.5,-157 272.5,-157 266.5,-151 266.5,-145 266.5,-145 266.5,-101 266.5,-101 266.5,-95 272.5,-89 278.5,-89 278.5,-89 389.5,-89 389.5,-89 395.5,-89 401.5,-95 401.5,-101 401.5,-101 401.5,-145 401.5,-145 401.5,-151 395.5,-157 389.5,-157\"/>\r\n",
       "<text text-anchor=\"start\" x=\"274.5\" y=\"-141.8\" font-family=\"Helvetica,sans-Serif\" font-size=\"14.00\">LotArea ≤ 22146.0</text>\r\n",
       "<text text-anchor=\"start\" x=\"296.5\" y=\"-126.8\" font-family=\"Helvetica,sans-Serif\" font-size=\"14.00\">gini = 0.027</text>\r\n",
       "<text text-anchor=\"start\" x=\"286.5\" y=\"-111.8\" font-family=\"Helvetica,sans-Serif\" font-size=\"14.00\">samples = 222</text>\r\n",
       "<text text-anchor=\"start\" x=\"285.5\" y=\"-96.8\" font-family=\"Helvetica,sans-Serif\" font-size=\"14.00\">value = [3, 219]</text>\r\n",
       "</g>\r\n",
       "<!-- 0&#45;&gt;4 -->\r\n",
       "<g id=\"edge4\" class=\"edge\"><title>0&#45;&gt;4</title>\r\n",
       "<path fill=\"none\" stroke=\"black\" d=\"M282,-192.884C288.589,-184.154 295.783,-174.625 302.661,-165.514\"/>\r\n",
       "<polygon fill=\"black\" stroke=\"black\" points=\"305.631,-167.389 308.862,-157.299 300.044,-163.172 305.631,-167.389\"/>\r\n",
       "<text text-anchor=\"middle\" x=\"312.32\" y=\"-178.359\" font-family=\"Helvetica,sans-Serif\" font-size=\"14.00\">False</text>\r\n",
       "</g>\r\n",
       "<!-- 2 -->\r\n",
       "<g id=\"node3\" class=\"node\"><title>2</title>\r\n",
       "<path fill=\"#399de5\" fill-opacity=\"0.913725\" stroke=\"black\" d=\"M110,-53C110,-53 12,-53 12,-53 6,-53 7.10543e-015,-47 7.10543e-015,-41 7.10543e-015,-41 7.10543e-015,-12 7.10543e-015,-12 7.10543e-015,-6 6,-0 12,-0 12,-0 110,-0 110,-0 116,-0 122,-6 122,-12 122,-12 122,-41 122,-41 122,-47 116,-53 110,-53\"/>\r\n",
       "<text text-anchor=\"start\" x=\"23.5\" y=\"-37.8\" font-family=\"Helvetica,sans-Serif\" font-size=\"14.00\">gini = 0.145</text>\r\n",
       "<text text-anchor=\"start\" x=\"13.5\" y=\"-22.8\" font-family=\"Helvetica,sans-Serif\" font-size=\"14.00\">samples = 875</text>\r\n",
       "<text text-anchor=\"start\" x=\"8\" y=\"-7.8\" font-family=\"Helvetica,sans-Serif\" font-size=\"14.00\">value = [69, 806]</text>\r\n",
       "</g>\r\n",
       "<!-- 1&#45;&gt;2 -->\r\n",
       "<g id=\"edge2\" class=\"edge\"><title>1&#45;&gt;2</title>\r\n",
       "<path fill=\"none\" stroke=\"black\" d=\"M139.03,-88.9485C126.949,-79.4346 113.792,-69.074 101.784,-59.6175\"/>\r\n",
       "<polygon fill=\"black\" stroke=\"black\" points=\"103.703,-56.6739 93.6815,-53.2367 99.3725,-62.1734 103.703,-56.6739\"/>\r\n",
       "</g>\r\n",
       "<!-- 3 -->\r\n",
       "<g id=\"node4\" class=\"node\"><title>3</title>\r\n",
       "<path fill=\"#e58139\" fill-opacity=\"0.498039\" stroke=\"black\" d=\"M225.5,-53C225.5,-53 152.5,-53 152.5,-53 146.5,-53 140.5,-47 140.5,-41 140.5,-41 140.5,-12 140.5,-12 140.5,-6 146.5,-0 152.5,-0 152.5,-0 225.5,-0 225.5,-0 231.5,-0 237.5,-6 237.5,-12 237.5,-12 237.5,-41 237.5,-41 237.5,-47 231.5,-53 225.5,-53\"/>\r\n",
       "<text text-anchor=\"start\" x=\"151.5\" y=\"-37.8\" font-family=\"Helvetica,sans-Serif\" font-size=\"14.00\">gini = 0.444</text>\r\n",
       "<text text-anchor=\"start\" x=\"149.5\" y=\"-22.8\" font-family=\"Helvetica,sans-Serif\" font-size=\"14.00\">samples = 3</text>\r\n",
       "<text text-anchor=\"start\" x=\"148.5\" y=\"-7.8\" font-family=\"Helvetica,sans-Serif\" font-size=\"14.00\">value = [2, 1]</text>\r\n",
       "</g>\r\n",
       "<!-- 1&#45;&gt;3 -->\r\n",
       "<g id=\"edge3\" class=\"edge\"><title>1&#45;&gt;3</title>\r\n",
       "<path fill=\"none\" stroke=\"black\" d=\"M183.798,-88.9485C184.503,-80.6238 185.262,-71.6509 185.978,-63.2027\"/>\r\n",
       "<polygon fill=\"black\" stroke=\"black\" points=\"189.465,-63.4963 186.821,-53.2367 182.49,-62.9058 189.465,-63.4963\"/>\r\n",
       "</g>\r\n",
       "<!-- 5 -->\r\n",
       "<g id=\"node6\" class=\"node\"><title>5</title>\r\n",
       "<path fill=\"#399de5\" fill-opacity=\"0.996078\" stroke=\"black\" d=\"M371.5,-53C371.5,-53 282.5,-53 282.5,-53 276.5,-53 270.5,-47 270.5,-41 270.5,-41 270.5,-12 270.5,-12 270.5,-6 276.5,-0 282.5,-0 282.5,-0 371.5,-0 371.5,-0 377.5,-0 383.5,-6 383.5,-12 383.5,-12 383.5,-41 383.5,-41 383.5,-47 377.5,-53 371.5,-53\"/>\r\n",
       "<text text-anchor=\"start\" x=\"293.5\" y=\"-37.8\" font-family=\"Helvetica,sans-Serif\" font-size=\"14.00\">gini = 0.01</text>\r\n",
       "<text text-anchor=\"start\" x=\"279.5\" y=\"-22.8\" font-family=\"Helvetica,sans-Serif\" font-size=\"14.00\">samples = 195</text>\r\n",
       "<text text-anchor=\"start\" x=\"278.5\" y=\"-7.8\" font-family=\"Helvetica,sans-Serif\" font-size=\"14.00\">value = [1, 194]</text>\r\n",
       "</g>\r\n",
       "<!-- 4&#45;&gt;5 -->\r\n",
       "<g id=\"edge5\" class=\"edge\"><title>4&#45;&gt;5</title>\r\n",
       "<path fill=\"none\" stroke=\"black\" d=\"M331.552,-88.9485C330.942,-80.7153 330.285,-71.848 329.665,-63.4814\"/>\r\n",
       "<polygon fill=\"black\" stroke=\"black\" points=\"333.136,-62.9508 328.906,-53.2367 326.155,-63.468 333.136,-62.9508\"/>\r\n",
       "</g>\r\n",
       "<!-- 6 -->\r\n",
       "<g id=\"node7\" class=\"node\"><title>6</title>\r\n",
       "<path fill=\"#399de5\" fill-opacity=\"0.921569\" stroke=\"black\" d=\"M494.5,-53C494.5,-53 413.5,-53 413.5,-53 407.5,-53 401.5,-47 401.5,-41 401.5,-41 401.5,-12 401.5,-12 401.5,-6 407.5,-0 413.5,-0 413.5,-0 494.5,-0 494.5,-0 500.5,-0 506.5,-6 506.5,-12 506.5,-12 506.5,-41 506.5,-41 506.5,-47 500.5,-53 494.5,-53\"/>\r\n",
       "<text text-anchor=\"start\" x=\"416.5\" y=\"-37.8\" font-family=\"Helvetica,sans-Serif\" font-size=\"14.00\">gini = 0.137</text>\r\n",
       "<text text-anchor=\"start\" x=\"410.5\" y=\"-22.8\" font-family=\"Helvetica,sans-Serif\" font-size=\"14.00\">samples = 27</text>\r\n",
       "<text text-anchor=\"start\" x=\"409.5\" y=\"-7.8\" font-family=\"Helvetica,sans-Serif\" font-size=\"14.00\">value = [2, 25]</text>\r\n",
       "</g>\r\n",
       "<!-- 4&#45;&gt;6 -->\r\n",
       "<g id=\"edge6\" class=\"edge\"><title>4&#45;&gt;6</title>\r\n",
       "<path fill=\"none\" stroke=\"black\" d=\"M375.97,-88.9485C388.051,-79.4346 401.208,-69.074 413.216,-59.6175\"/>\r\n",
       "<polygon fill=\"black\" stroke=\"black\" points=\"415.628,-62.1734 421.318,-53.2367 411.297,-56.6739 415.628,-62.1734\"/>\r\n",
       "</g>\r\n",
       "</g>\r\n",
       "</svg>\r\n"
      ],
      "text/plain": [
       "<graphviz.files.Source at 0x16a53a90c88>"
      ]
     },
     "execution_count": 69,
     "metadata": {},
     "output_type": "execute_result"
    }
   ],
   "source": [
    "# Export the Decision Tree as a dot object\n",
    "treedot = export_graphviz(dectree,                                      # the model\n",
    "                          feature_names = lotarea_train.columns,          # the features \n",
    "                          out_file = None,                              # output file\n",
    "                          filled = True,                                # node colors\n",
    "                          rounded = True,                               # make pretty\n",
    "                          special_characters = True)                    # postscript\n",
    "\n",
    "graphviz.Source(treedot)"
   ]
  },
  {
   "cell_type": "code",
   "execution_count": 70,
   "metadata": {},
   "outputs": [
    {
     "data": {
      "text/plain": [
       "<matplotlib.axes._subplots.AxesSubplot at 0x16a53a9ac18>"
      ]
     },
     "execution_count": 70,
     "metadata": {},
     "output_type": "execute_result"
    },
    {
     "data": {
      "image/png": "[encoded data removed]",
      "text/plain": [
       "<Figure size 432x288 with 2 Axes>"
      ]
     },
     "metadata": {
      "needs_background": "light"
     },
     "output_type": "display_data"
    }
   ],
   "source": [
    "# Predict Central Air corresponding to Lot Area Test\n",
    "y_train_pred = dectree.predict(lotarea_train)\n",
    "\n",
    "# Plot the two-way Confusion Matrix\n",
    "from sklearn.metrics import confusion_matrix\n",
    "sb.heatmap(confusion_matrix(y_train, y_train_pred), \n",
    "           annot = True, fmt=\".0f\", annot_kws={\"size\": 18})"
   ]
  },
  {
   "cell_type": "code",
   "execution_count": 71,
   "metadata": {},
   "outputs": [
    {
     "data": {
      "text/plain": [
       "<matplotlib.axes._subplots.AxesSubplot at 0x16a53b29710>"
      ]
     },
     "execution_count": 71,
     "metadata": {},
     "output_type": "execute_result"
    },
    {
     "data": {
      "image/png": "[encoded data removed]",
      "text/plain": [
       "<Figure size 432x288 with 2 Axes>"
      ]
     },
     "metadata": {
      "needs_background": "light"
     },
     "output_type": "display_data"
    }
   ],
   "source": [
    "# Predict Central Air corresponding to Lot Area Test\n",
    "y_test_pred = dectree.predict(lotarea_test)\n",
    "\n",
    "# Plot the two-way Confusion Matrix\n",
    "from sklearn.metrics import confusion_matrix\n",
    "sb.heatmap(confusion_matrix(y_test, y_test_pred), \n",
    "           annot = True, fmt=\".0f\", annot_kws={\"size\": 18})"
   ]
  },
  {
   "cell_type": "code",
   "execution_count": 72,
   "metadata": {},
   "outputs": [
    {
     "name": "stdout",
     "output_type": "stream",
     "text": [
      "Classification Accuracy \t: 0.9416666666666667\n",
      "True Positive Rate in Train Data =  0.9990253411306043\n",
      "True Positive Rate in Test Data =  1.0\n",
      "False Positive Rate in Train Data =  0.972972972972973\n",
      "False Positive Rate in Test Data =  1.0\n"
     ]
    }
   ],
   "source": [
    "# Print the Classification Accuracy\n",
    "print(\"Classification Accuracy \\t:\", dectree.score(lotarea_test, y_test))\n",
    "\n",
    "#True Positive Rate\n",
    "tpr_train = 1025/(1025+1)\n",
    "tpr_test = 339/(339+0)\n",
    "\n",
    "print(\"True Positive Rate in Train Data = \", tpr_train)\n",
    "print(\"True Positive Rate in Test Data = \", tpr_test)\n",
    "\n",
    "#False Positive Rate\n",
    "fpr_train = 72/(72+2)\n",
    "fpr_test = 21/(21+0)\n",
    "\n",
    "print(\"False Positive Rate in Train Data = \", fpr_train)\n",
    "print(\"False Positive Rate in Test Data = \", fpr_test)"
   ]
  },
  {
   "cell_type": "markdown",
   "metadata": {},
   "source": [
    "# TotalBsmtSF"
   ]
  },
  {
   "cell_type": "code",
   "execution_count": 73,
   "metadata": {},
   "outputs": [
    {
     "data": {
      "text/plain": [
       "DecisionTreeClassifier(class_weight=None, criterion='gini', max_depth=2,\n",
       "            max_features=None, max_leaf_nodes=None,\n",
       "            min_impurity_decrease=0.0, min_impurity_split=None,\n",
       "            min_samples_leaf=1, min_samples_split=2,\n",
       "            min_weight_fraction_leaf=0.0, presort=False, random_state=None,\n",
       "            splitter='best')"
      ]
     },
     "execution_count": 73,
     "metadata": {},
     "output_type": "execute_result"
    }
   ],
   "source": [
    "# Train the Decision Tree Classifier model\n",
    "dectree.fit(totalbsmtsf_train, y_train)"
   ]
  },
  {
   "cell_type": "code",
   "execution_count": 74,
   "metadata": {},
   "outputs": [
    {
     "data": {
      "image/svg+xml": [
       "<?xml version=\"1.0\" encoding=\"UTF-8\" standalone=\"no\"?>\r\n",
       "<!DOCTYPE svg PUBLIC \"-//W3C//DTD SVG 1.1//EN\"\r\n",
       " \"http://www.w3.org/Graphics/SVG/1.1/DTD/svg11.dtd\">\r\n",
       "<!-- Generated by graphviz version 2.38.0 (20140413.2041)\r\n",
       " -->\r\n",
       "<!-- Title: Tree Pages: 1 -->\r\n",
       "<svg width=\"557pt\" height=\"269pt\"\r\n",
       " viewBox=\"0.00 0.00 556.50 269.00\" xmlns=\"http://www.w3.org/2000/svg\" xmlns:xlink=\"http://www.w3.org/1999/xlink\">\r\n",
       "<g id=\"graph0\" class=\"graph\" transform=\"scale(1 1) rotate(0) translate(4 265)\">\r\n",
       "<title>Tree</title>\r\n",
       "<polygon fill=\"white\" stroke=\"none\" points=\"-4,4 -4,-265 552.5,-265 552.5,4 -4,4\"/>\r\n",
       "<!-- 0 -->\r\n",
       "<g id=\"node1\" class=\"node\"><title>0</title>\r\n",
       "<path fill=\"#399de5\" fill-opacity=\"0.929412\" stroke=\"black\" d=\"M333.5,-261C333.5,-261 205.5,-261 205.5,-261 199.5,-261 193.5,-255 193.5,-249 193.5,-249 193.5,-205 193.5,-205 193.5,-199 199.5,-193 205.5,-193 205.5,-193 333.5,-193 333.5,-193 339.5,-193 345.5,-199 345.5,-205 345.5,-205 345.5,-249 345.5,-249 345.5,-255 339.5,-261 333.5,-261\"/>\r\n",
       "<text text-anchor=\"start\" x=\"201.5\" y=\"-245.8\" font-family=\"Helvetica,sans-Serif\" font-size=\"14.00\">TotalBsmtSF ≤ 687.5</text>\r\n",
       "<text text-anchor=\"start\" x=\"232\" y=\"-230.8\" font-family=\"Helvetica,sans-Serif\" font-size=\"14.00\">gini = 0.125</text>\r\n",
       "<text text-anchor=\"start\" x=\"218\" y=\"-215.8\" font-family=\"Helvetica,sans-Serif\" font-size=\"14.00\">samples = 1100</text>\r\n",
       "<text text-anchor=\"start\" x=\"212.5\" y=\"-200.8\" font-family=\"Helvetica,sans-Serif\" font-size=\"14.00\">value = [74, 1026]</text>\r\n",
       "</g>\r\n",
       "<!-- 1 -->\r\n",
       "<g id=\"node2\" class=\"node\"><title>1</title>\r\n",
       "<path fill=\"#399de5\" fill-opacity=\"0.725490\" stroke=\"black\" d=\"M244,-157C244,-157 125,-157 125,-157 119,-157 113,-151 113,-145 113,-145 113,-101 113,-101 113,-95 119,-89 125,-89 125,-89 244,-89 244,-89 250,-89 256,-95 256,-101 256,-101 256,-145 256,-145 256,-151 250,-157 244,-157\"/>\r\n",
       "<text text-anchor=\"start\" x=\"121\" y=\"-141.8\" font-family=\"Helvetica,sans-Serif\" font-size=\"14.00\">TotalBsmtSF ≤ 52.5</text>\r\n",
       "<text text-anchor=\"start\" x=\"147\" y=\"-126.8\" font-family=\"Helvetica,sans-Serif\" font-size=\"14.00\">gini = 0.337</text>\r\n",
       "<text text-anchor=\"start\" x=\"137\" y=\"-111.8\" font-family=\"Helvetica,sans-Serif\" font-size=\"14.00\">samples = 154</text>\r\n",
       "<text text-anchor=\"start\" x=\"131.5\" y=\"-96.8\" font-family=\"Helvetica,sans-Serif\" font-size=\"14.00\">value = [33, 121]</text>\r\n",
       "</g>\r\n",
       "<!-- 0&#45;&gt;1 -->\r\n",
       "<g id=\"edge1\" class=\"edge\"><title>0&#45;&gt;1</title>\r\n",
       "<path fill=\"none\" stroke=\"black\" d=\"M241.903,-192.884C234.554,-184.065 226.525,-174.43 218.863,-165.235\"/>\r\n",
       "<polygon fill=\"black\" stroke=\"black\" points=\"221.34,-162.741 212.249,-157.299 215.963,-167.222 221.34,-162.741\"/>\r\n",
       "<text text-anchor=\"middle\" x=\"209.986\" y=\"-178.497\" font-family=\"Helvetica,sans-Serif\" font-size=\"14.00\">True</text>\r\n",
       "</g>\r\n",
       "<!-- 4 -->\r\n",
       "<g id=\"node5\" class=\"node\"><title>4</title>\r\n",
       "<path fill=\"#399de5\" fill-opacity=\"0.952941\" stroke=\"black\" d=\"M422.5,-157C422.5,-157 286.5,-157 286.5,-157 280.5,-157 274.5,-151 274.5,-145 274.5,-145 274.5,-101 274.5,-101 274.5,-95 280.5,-89 286.5,-89 286.5,-89 422.5,-89 422.5,-89 428.5,-89 434.5,-95 434.5,-101 434.5,-101 434.5,-145 434.5,-145 434.5,-151 428.5,-157 422.5,-157\"/>\r\n",
       "<text text-anchor=\"start\" x=\"282.5\" y=\"-141.8\" font-family=\"Helvetica,sans-Serif\" font-size=\"14.00\">TotalBsmtSF ≤ 1023.0</text>\r\n",
       "<text text-anchor=\"start\" x=\"317\" y=\"-126.8\" font-family=\"Helvetica,sans-Serif\" font-size=\"14.00\">gini = 0.083</text>\r\n",
       "<text text-anchor=\"start\" x=\"307\" y=\"-111.8\" font-family=\"Helvetica,sans-Serif\" font-size=\"14.00\">samples = 946</text>\r\n",
       "<text text-anchor=\"start\" x=\"301.5\" y=\"-96.8\" font-family=\"Helvetica,sans-Serif\" font-size=\"14.00\">value = [41, 905]</text>\r\n",
       "</g>\r\n",
       "<!-- 0&#45;&gt;4 -->\r\n",
       "<g id=\"edge4\" class=\"edge\"><title>0&#45;&gt;4</title>\r\n",
       "<path fill=\"none\" stroke=\"black\" d=\"M297.097,-192.884C304.446,-184.065 312.475,-174.43 320.137,-165.235\"/>\r\n",
       "<polygon fill=\"black\" stroke=\"black\" points=\"323.037,-167.222 326.751,-157.299 317.66,-162.741 323.037,-167.222\"/>\r\n",
       "<text text-anchor=\"middle\" x=\"329.014\" y=\"-178.497\" font-family=\"Helvetica,sans-Serif\" font-size=\"14.00\">False</text>\r\n",
       "</g>\r\n",
       "<!-- 2 -->\r\n",
       "<g id=\"node3\" class=\"node\"><title>2</title>\r\n",
       "<path fill=\"#399de5\" fill-opacity=\"0.450980\" stroke=\"black\" d=\"M101,-53C101,-53 12,-53 12,-53 6,-53 0,-47 0,-41 0,-41 0,-12 0,-12 0,-6 6,-0 12,-0 12,-0 101,-0 101,-0 107,-0 113,-6 113,-12 113,-12 113,-41 113,-41 113,-47 107,-53 101,-53\"/>\r\n",
       "<text text-anchor=\"start\" x=\"19\" y=\"-37.8\" font-family=\"Helvetica,sans-Serif\" font-size=\"14.00\">gini = 0.458</text>\r\n",
       "<text text-anchor=\"start\" x=\"13\" y=\"-22.8\" font-family=\"Helvetica,sans-Serif\" font-size=\"14.00\">samples = 31</text>\r\n",
       "<text text-anchor=\"start\" x=\"8\" y=\"-7.8\" font-family=\"Helvetica,sans-Serif\" font-size=\"14.00\">value = [11, 20]</text>\r\n",
       "</g>\r\n",
       "<!-- 1&#45;&gt;2 -->\r\n",
       "<g id=\"edge2\" class=\"edge\"><title>1&#45;&gt;2</title>\r\n",
       "<path fill=\"none\" stroke=\"black\" d=\"M139.732,-88.9485C126.721,-79.3431 112.542,-68.8747 99.634,-59.345\"/>\r\n",
       "<polygon fill=\"black\" stroke=\"black\" points=\"101.484,-56.3605 91.3603,-53.2367 97.3265,-61.992 101.484,-56.3605\"/>\r\n",
       "</g>\r\n",
       "<!-- 3 -->\r\n",
       "<g id=\"node4\" class=\"node\"><title>3</title>\r\n",
       "<path fill=\"#399de5\" fill-opacity=\"0.780392\" stroke=\"black\" d=\"M241.5,-53C241.5,-53 143.5,-53 143.5,-53 137.5,-53 131.5,-47 131.5,-41 131.5,-41 131.5,-12 131.5,-12 131.5,-6 137.5,-0 143.5,-0 143.5,-0 241.5,-0 241.5,-0 247.5,-0 253.5,-6 253.5,-12 253.5,-12 253.5,-41 253.5,-41 253.5,-47 247.5,-53 241.5,-53\"/>\r\n",
       "<text text-anchor=\"start\" x=\"155\" y=\"-37.8\" font-family=\"Helvetica,sans-Serif\" font-size=\"14.00\">gini = 0.294</text>\r\n",
       "<text text-anchor=\"start\" x=\"145\" y=\"-22.8\" font-family=\"Helvetica,sans-Serif\" font-size=\"14.00\">samples = 123</text>\r\n",
       "<text text-anchor=\"start\" x=\"139.5\" y=\"-7.8\" font-family=\"Helvetica,sans-Serif\" font-size=\"14.00\">value = [22, 101]</text>\r\n",
       "</g>\r\n",
       "<!-- 1&#45;&gt;3 -->\r\n",
       "<g id=\"edge3\" class=\"edge\"><title>1&#45;&gt;3</title>\r\n",
       "<path fill=\"none\" stroke=\"black\" d=\"M187.298,-88.9485C188.003,-80.6238 188.762,-71.6509 189.478,-63.2027\"/>\r\n",
       "<polygon fill=\"black\" stroke=\"black\" points=\"192.965,-63.4963 190.321,-53.2367 185.99,-62.9058 192.965,-63.4963\"/>\r\n",
       "</g>\r\n",
       "<!-- 5 -->\r\n",
       "<g id=\"node6\" class=\"node\"><title>5</title>\r\n",
       "<path fill=\"#399de5\" fill-opacity=\"0.917647\" stroke=\"black\" d=\"M396.5,-53C396.5,-53 298.5,-53 298.5,-53 292.5,-53 286.5,-47 286.5,-41 286.5,-41 286.5,-12 286.5,-12 286.5,-6 292.5,-0 298.5,-0 298.5,-0 396.5,-0 396.5,-0 402.5,-0 408.5,-6 408.5,-12 408.5,-12 408.5,-41 408.5,-41 408.5,-47 402.5,-53 396.5,-53\"/>\r\n",
       "<text text-anchor=\"start\" x=\"310\" y=\"-37.8\" font-family=\"Helvetica,sans-Serif\" font-size=\"14.00\">gini = 0.139</text>\r\n",
       "<text text-anchor=\"start\" x=\"300\" y=\"-22.8\" font-family=\"Helvetica,sans-Serif\" font-size=\"14.00\">samples = 411</text>\r\n",
       "<text text-anchor=\"start\" x=\"294.5\" y=\"-7.8\" font-family=\"Helvetica,sans-Serif\" font-size=\"14.00\">value = [31, 380]</text>\r\n",
       "</g>\r\n",
       "<!-- 4&#45;&gt;5 -->\r\n",
       "<g id=\"edge5\" class=\"edge\"><title>4&#45;&gt;5</title>\r\n",
       "<path fill=\"none\" stroke=\"black\" d=\"M352.052,-88.9485C351.442,-80.7153 350.785,-71.848 350.165,-63.4814\"/>\r\n",
       "<polygon fill=\"black\" stroke=\"black\" points=\"353.636,-62.9508 349.406,-53.2367 346.655,-63.468 353.636,-62.9508\"/>\r\n",
       "</g>\r\n",
       "<!-- 6 -->\r\n",
       "<g id=\"node7\" class=\"node\"><title>6</title>\r\n",
       "<path fill=\"#399de5\" fill-opacity=\"0.980392\" stroke=\"black\" d=\"M536.5,-53C536.5,-53 438.5,-53 438.5,-53 432.5,-53 426.5,-47 426.5,-41 426.5,-41 426.5,-12 426.5,-12 426.5,-6 432.5,-0 438.5,-0 438.5,-0 536.5,-0 536.5,-0 542.5,-0 548.5,-6 548.5,-12 548.5,-12 548.5,-41 548.5,-41 548.5,-47 542.5,-53 536.5,-53\"/>\r\n",
       "<text text-anchor=\"start\" x=\"450\" y=\"-37.8\" font-family=\"Helvetica,sans-Serif\" font-size=\"14.00\">gini = 0.037</text>\r\n",
       "<text text-anchor=\"start\" x=\"440\" y=\"-22.8\" font-family=\"Helvetica,sans-Serif\" font-size=\"14.00\">samples = 535</text>\r\n",
       "<text text-anchor=\"start\" x=\"434.5\" y=\"-7.8\" font-family=\"Helvetica,sans-Serif\" font-size=\"14.00\">value = [10, 525]</text>\r\n",
       "</g>\r\n",
       "<!-- 4&#45;&gt;6 -->\r\n",
       "<g id=\"edge6\" class=\"edge\"><title>4&#45;&gt;6</title>\r\n",
       "<path fill=\"none\" stroke=\"black\" d=\"M401.017,-88.9485C414.664,-79.2516 429.55,-68.6752 443.064,-59.073\"/>\r\n",
       "<polygon fill=\"black\" stroke=\"black\" points=\"445.153,-61.882 451.278,-53.2367 441.099,-56.1757 445.153,-61.882\"/>\r\n",
       "</g>\r\n",
       "</g>\r\n",
       "</svg>\r\n"
      ],
      "text/plain": [
       "<graphviz.files.Source at 0x16a53b87748>"
      ]
     },
     "execution_count": 74,
     "metadata": {},
     "output_type": "execute_result"
    }
   ],
   "source": [
    "# Export the Decision Tree as a dot object\n",
    "treedot = export_graphviz(dectree,                                      # the model\n",
    "                          feature_names = totalbsmtsf_train.columns,          # the features \n",
    "                          out_file = None,                              # output file\n",
    "                          filled = True,                                # node colors\n",
    "                          rounded = True,                               # make pretty\n",
    "                          special_characters = True)                    # postscript\n",
    "\n",
    "graphviz.Source(treedot)"
   ]
  },
  {
   "cell_type": "code",
   "execution_count": 76,
   "metadata": {},
   "outputs": [
    {
     "data": {
      "text/plain": [
       "<matplotlib.axes._subplots.AxesSubplot at 0x16a53ba26d8>"
      ]
     },
     "execution_count": 76,
     "metadata": {},
     "output_type": "execute_result"
    },
    {
     "data": {
      "image/png": "[encoded data removed]",
      "text/plain": [
       "<Figure size 432x288 with 2 Axes>"
      ]
     },
     "metadata": {
      "needs_background": "light"
     },
     "output_type": "display_data"
    }
   ],
   "source": [
    "# Predict Central Air corresponding to Total BSMTSF Test\n",
    "y_train_pred = dectree.predict(totalbsmtsf_train)\n",
    "\n",
    "# Plot the two-way Confusion Matrix\n",
    "from sklearn.metrics import confusion_matrix\n",
    "sb.heatmap(confusion_matrix(y_train, y_train_pred), \n",
    "           annot = True, fmt=\".0f\", annot_kws={\"size\": 18})"
   ]
  },
  {
   "cell_type": "code",
   "execution_count": 77,
   "metadata": {},
   "outputs": [
    {
     "data": {
      "text/plain": [
       "<matplotlib.axes._subplots.AxesSubplot at 0x16a53c4c390>"
      ]
     },
     "execution_count": 77,
     "metadata": {},
     "output_type": "execute_result"
    },
    {
     "data": {
      "image/png": "[encoded data removed]",
      "text/plain": [
       "<Figure size 432x288 with 2 Axes>"
      ]
     },
     "metadata": {
      "needs_background": "light"
     },
     "output_type": "display_data"
    }
   ],
   "source": [
    "# Predict Central Air corresponding to Total BSMTSF Test\n",
    "y_test_pred = dectree.predict(totalbsmtsf_test)\n",
    "\n",
    "# Plot the two-way Confusion Matrix\n",
    "from sklearn.metrics import confusion_matrix\n",
    "sb.heatmap(confusion_matrix(y_test, y_test_pred), \n",
    "           annot = True, fmt=\".0f\", annot_kws={\"size\": 18})"
   ]
  },
  {
   "cell_type": "code",
   "execution_count": 78,
   "metadata": {},
   "outputs": [
    {
     "name": "stdout",
     "output_type": "stream",
     "text": [
      "Classification Accuracy \t: 0.9416666666666667\n",
      "True Positive Rate in Train Data =  1.0\n",
      "True Positive Rate in Test Data =  1.0\n",
      "False Positive Rate in Train Data =  1.0\n",
      "False Positive Rate in Test Data =  1.0\n"
     ]
    }
   ],
   "source": [
    "# Print the Classification Accuracy\n",
    "print(\"Classification Accuracy \\t:\", dectree.score(totalbsmtsf_test, y_test))\n",
    "\n",
    "#True Positive Rate\n",
    "tpr_train = 1026/(1026+0)\n",
    "tpr_test = 339/(339+0)\n",
    "\n",
    "print(\"True Positive Rate in Train Data = \", tpr_train)\n",
    "print(\"True Positive Rate in Test Data = \", tpr_test)\n",
    "\n",
    "#False Positive Rate\n",
    "fpr_train = 74/(74+0)\n",
    "fpr_test = 21/(21+0)\n",
    "\n",
    "print(\"False Positive Rate in Train Data = \", fpr_train)\n",
    "print(\"False Positive Rate in Test Data = \", fpr_test)"
   ]
  },
  {
   "cell_type": "markdown",
   "metadata": {},
   "source": [
    "Total BSMTSF is the best model to predict Central Air."
   ]
  },
  {
   "cell_type": "code",
   "execution_count": null,
   "metadata": {},
   "outputs": [],
   "source": []
  }
 ],
 "metadata": {
  "kernelspec": {
   "display_name": "Python 3",
   "language": "python",
   "name": "python3"
  },
  "language_info": {
   "codemirror_mode": {
    "name": "ipython",
    "version": 3
   },
   "file_extension": ".py",
   "mimetype": "text/x-python",
   "name": "python",
   "nbconvert_exporter": "python",
   "pygments_lexer": "ipython3",
   "version": "3.7.1"
  }
 },
 "nbformat": 4,
 "nbformat_minor": 2
}
